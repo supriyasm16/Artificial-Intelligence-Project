{
  "nbformat": 4,
  "nbformat_minor": 0,
  "metadata": {
    "colab": {
      "name": "Copy of AI_Agent",
      "provenance": [],
      "collapsed_sections": []
    },
    "kernelspec": {
      "display_name": "Python 3",
      "name": "python3"
    }
  },
  "cells": [
    {
      "cell_type": "markdown",
      "metadata": {
        "id": "mR784RPE8YZw"
      },
      "source": [
        "Install all necessary Libraries"
      ]
    },
    {
      "cell_type": "code",
      "metadata": {
        "colab": {
          "base_uri": "https://localhost:8080/"
        },
        "id": "COu3oFmOyN0g",
        "outputId": "eb5460f2-7ac6-4989-8e73-eccaf3ef1dbe"
      },
      "source": [
        "!pip install SpeechRecognition moviepy\n",
        "!apt-get update\n",
        "!apt-get install -y swig libpulse-dev\n",
        "!pip install pocketsphinx\n",
        "\n",
        "\n",
        "import speech_recognition as sr\n",
        "import moviepy.editor as mp\n",
        "import numpy as np\n",
        "import os"
      ],
      "execution_count": null,
      "outputs": [
        {
          "output_type": "stream",
          "text": [
            "Requirement already satisfied: SpeechRecognition in /usr/local/lib/python3.6/dist-packages (3.8.1)\n",
            "Requirement already satisfied: moviepy in /usr/local/lib/python3.6/dist-packages (0.2.3.5)\n",
            "Requirement already satisfied: numpy in /usr/local/lib/python3.6/dist-packages (from moviepy) (1.18.5)\n",
            "Requirement already satisfied: tqdm<5.0,>=4.11.2 in /usr/local/lib/python3.6/dist-packages (from moviepy) (4.41.1)\n",
            "Requirement already satisfied: decorator<5.0,>=4.0.2 in /usr/local/lib/python3.6/dist-packages (from moviepy) (4.4.2)\n",
            "Requirement already satisfied: imageio<3.0,>=2.1.2 in /usr/local/lib/python3.6/dist-packages (from moviepy) (2.4.1)\n",
            "Requirement already satisfied: pillow in /usr/local/lib/python3.6/dist-packages (from imageio<3.0,>=2.1.2->moviepy) (7.0.0)\n",
            "Hit:1 https://cloud.r-project.org/bin/linux/ubuntu bionic-cran40/ InRelease\n",
            "Ign:2 https://developer.download.nvidia.com/compute/cuda/repos/ubuntu1804/x86_64  InRelease\n",
            "Ign:3 https://developer.download.nvidia.com/compute/machine-learning/repos/ubuntu1804/x86_64  InRelease\n",
            "Hit:4 https://developer.download.nvidia.com/compute/cuda/repos/ubuntu1804/x86_64  Release\n",
            "Hit:5 https://developer.download.nvidia.com/compute/machine-learning/repos/ubuntu1804/x86_64  Release\n",
            "Hit:6 http://archive.ubuntu.com/ubuntu bionic InRelease\n",
            "Get:7 http://security.ubuntu.com/ubuntu bionic-security InRelease [88.7 kB]\n",
            "Hit:8 http://ppa.launchpad.net/c2d4u.team/c2d4u4.0+/ubuntu bionic InRelease\n",
            "Get:9 http://archive.ubuntu.com/ubuntu bionic-updates InRelease [88.7 kB]\n",
            "Hit:10 http://ppa.launchpad.net/graphics-drivers/ppa/ubuntu bionic InRelease\n",
            "Get:13 http://archive.ubuntu.com/ubuntu bionic-backports InRelease [74.6 kB]\n",
            "Get:14 http://security.ubuntu.com/ubuntu bionic-security/universe amd64 Packages [1,368 kB]\n",
            "Get:15 http://archive.ubuntu.com/ubuntu bionic-updates/main amd64 Packages [2,199 kB]\n",
            "Get:16 http://security.ubuntu.com/ubuntu bionic-security/main amd64 Packages [1,771 kB]\n",
            "Fetched 5,589 kB in 3s (2,092 kB/s)\n",
            "Reading package lists... Done\n",
            "Reading package lists... Done\n",
            "Building dependency tree       \n",
            "Reading state information... Done\n",
            "swig is already the newest version (3.0.12-1).\n",
            "libpulse-dev is already the newest version (1:11.1-1ubuntu7.11).\n",
            "0 upgraded, 0 newly installed, 0 to remove and 28 not upgraded.\n",
            "Requirement already satisfied: pocketsphinx in /usr/local/lib/python3.6/dist-packages (0.1.15)\n"
          ],
          "name": "stdout"
        }
      ]
    },
    {
      "cell_type": "markdown",
      "metadata": {
        "id": "mKHwogGwyU4G"
      },
      "source": [
        "Mount the driver for linking the ASL dictionary from google drive\n"
      ]
    },
    {
      "cell_type": "code",
      "metadata": {
        "colab": {
          "base_uri": "https://localhost:8080/"
        },
        "id": "QJ6NCUqT9eoH",
        "outputId": "d048bdd0-12db-4d12-cf38-b0b076f6d16e"
      },
      "source": [
        "# Load the Drive helper and mount\r\n",
        "from google.colab import drive\r\n",
        "drive.mount('/content/drive')\r\n"
      ],
      "execution_count": null,
      "outputs": [
        {
          "output_type": "stream",
          "text": [
            "Drive already mounted at /content/drive; to attempt to forcibly remount, call drive.mount(\"/content/drive\", force_remount=True).\n"
          ],
          "name": "stdout"
        }
      ]
    },
    {
      "cell_type": "markdown",
      "metadata": {
        "id": "JjN3O2A79mRj"
      },
      "source": [
        "Video to speech and speech to audio convertion"
      ]
    },
    {
      "cell_type": "code",
      "metadata": {
        "colab": {
          "background_save": true,
          "base_uri": "https://localhost:8080/"
        },
        "id": "fitL-2eQySlU",
        "outputId": "66433ff8-e5ee-4c19-c719-29d1d46da466"
      },
      "source": [
        "#load the video as clip and extract the audio into a audiofile\n",
        "clip = mp.VideoFileClip(r\"Video.mov\")\n",
        "clip.audio.write_audiofile(r\"ConvertedAudio.wav\")              #converting video in to audio\n",
        "\n",
        "#import the Recognizer module and load the audio file into it as audio_data\n",
        "r = sr.Recognizer()\n",
        "audio_data = sr.AudioFile(\"ConvertedAudio.wav\")\n",
        "\n",
        "#Using the audio_data as source start adjust the ambient noise to improve the accuracy\n",
        "with audio_data as source:\n",
        "  audio_file = r.record(source)\n",
        "  r.adjust_for_ambient_noise(audio_data)\n",
        "  #load the audio file into the recognize_sphinx provided by CMUSphinx with language as \"en-US\" \n",
        "  result = r.recognize_sphinx(audio_file, language= \"en-US\")   #converting audio into text\n",
        "  print(result)\n"
      ],
      "execution_count": null,
      "outputs": [
        {
          "output_type": "stream",
          "text": [
            "[MoviePy] Writing audio in ConvertedAudio.wav\n"
          ],
          "name": "stdout"
        },
        {
          "output_type": "stream",
          "text": [
            "100%|██████████| 3771/3771 [00:02<00:00, 1737.88it/s]"
          ],
          "name": "stderr"
        },
        {
          "output_type": "stream",
          "text": [
            "[MoviePy] Done.\n"
          ],
          "name": "stdout"
        },
        {
          "output_type": "stream",
          "text": [
            "\n"
          ],
          "name": "stderr"
        },
        {
          "output_type": "stream",
          "text": [
            "there are against chimpanzee who stumbles across a windfall of overripe haunts many of them had a widow been drawing him to their intoxicating freebies alert and port o'clock in the genes to experience some new range of crime is on waiting eight has stumbled on process that humans will avenge lead harnessed to create a beer wine and other alcoholic drinks the sugars in the polls right forget attract microscopic organisms known as long as they used to be on the firm sugars to produce a compound called ethanol the type of alcohol in alcoholic beverages this process is called fermentation nobody knows exactly when humans began to create fermented beverages the earliest known evidence comes from seven thousand b. c. in china where residue in clay pots has revealed that people were making an alcoholic beverage from fermented rice millet graves and honey within a few thousand years cultures all over the world were fermenting their own drinks the ancient mesopotamia nice and the egyptians made here throughout the year from stored cereal grains disappear was available to all social classes and workers even received a near daily rations they also made wine but because the climate was an ideal for growing grapes it was a rare and expensive delicacy by contrast in greece and rome where greeks grew more easily flying was as readily available as beer was in egypt in mesopotamia because he swore ferment basic week and playing checkers ancient peoples made alcohol from what ever crops pinpoints grew where they lived in south america people need to show from agreements with sometimes adding hallucinogenic herbs in what's now mexico can pay made from cat is out was the drink of choice and wealth east africa news made banana and home peanut and in the area that's now japan people made second crime rights almost every region of the globe had its own fermented drinks as alcohol consumption became part of everyday life some authority is latched onto a fax they perceived as positive greek physicians consider going to be good for health and poets testified to its creative qualities others were more concerned about alcohol spud ten shore for abuse greek philosophers promoted temperance early jewish and christian writers in europe integrated wine country rituals but considered excessive intoxication the sin and in the middle east africa in setting up an islamic rule against praying welsh brought gradually solidified into a general opinion\n"
          ],
          "name": "stdout"
        }
      ]
    },
    {
      "cell_type": "markdown",
      "metadata": {
        "id": "ROsoQ7VeyfMw"
      },
      "source": [
        "Creating dictionary files to link each ASL sing to a particular word"
      ]
    },
    {
      "cell_type": "code",
      "metadata": {
        "colab": {
          "background_save": true,
          "base_uri": "https://localhost:8080/"
        },
        "id": "mbaeE-AiydeM",
        "outputId": "44f7728a-ef38-4c34-cf73-2fc9375ecaf2"
      },
      "source": [
        "path = '/content/drive/MyDrive/ASLVideoDictionary/' \n",
        "files = [os.path.splitext(filename)[0] for filename in os.listdir(path)]\n",
        "\n",
        "arr = os.listdir(path)\n",
        "Videos = dict()          \n",
        "\n",
        "# Function to add key:value to dictionary \n",
        "def add(Videos, key, value):  \n",
        "  Videos[key] = value \n",
        "   \n",
        "for i,j in zip(files, range(len(arr))):\n",
        "  val = arr[j]\n",
        "  add(Videos, key=i,value=val)    \n",
        "\n",
        "print(Videos)      "
      ],
      "execution_count": null,
      "outputs": [
        {
          "output_type": "stream",
          "text": [
            "{'ororder': 'ororder.mp4', 'seven': 'seven.mp4', 'serious': 'serious.mp4', 'serve': 'serve.mp4', 'setrecord': 'setrecord.mp4', 'settle': 'settle.mp4', 'setup': 'setup.mp4', 'sevenhundred': 'sevenhundred.mp4', 'seventeen': 'seventeen.mp4', 'seventh': 'seventh.mp4', 'seventyeight': 'seventyeight.mp4', 'seventyone': 'seventyone.mp4', 'seventynine': 'seventynine.mp4', 'seventysix': 'seventysix.mp4', 'seventythree': 'seventythree.mp4', 'sew': 'sew.mp4', 'seventytwo': 'seventytwo.mp4', 'several': 'several.mp4', 'sharp': 'sharp.mp4', 'shape': 'shape.mp4', 'share': 'share.mp4', 'shavehead': 'shavehead.mp4', 'shirtbody': 'shirtbody.mp4', 'sheep': 'sheep.mp4', 'shock': 'shock.mp4', 'shark': 'shark.mp4', 'shirt': 'shirt.mp4', 'shocked': 'shocked.mp4', 'shop': 'shop.mp4', 'shoes': 'shoes.mp4', 'short': 'short.mp4', 'shortdistance': 'shortdistance.mp4', 'shorts': 'shorts.mp4', 'shoulder': 'shoulder.mp4', 'shortword': 'shortword.mp4', 'shovel': 'shovel.mp4', 'shower': 'shower.mp4', 'shout': 'shout.mp4', 'shy': 'shy.mp4', 'show': 'show.mp4', 'sick': 'sick.mp4', 'signature': 'signature.mp4', 'side': 'side.mp4', 'silly': 'silly.mp4', 'fufullyrepeatedsign': 'fufullyrepeatedsign.mp4', 'sign': 'sign.mp4', 'signage': 'signage.mp4', 'simple': 'simple.mp4', 'singleout': 'singleout.mp4', 'since': 'since.mp4', 'single': 'single.mp4', 'siren': 'siren.mp4', 'sit': 'sit.mp4', 'six': 'six.mp4', 'situation': 'situation.mp4', 'sister': 'sister.mp4', 'sixteen': 'sixteen.mp4', 'sixty': 'sixty.mp4', 'sixtyeight': 'sixtyeight.mp4', 'sixtyfour': 'sixtyfour.mp4', 'sixtyfive': 'sixtyfive.mp4', 'sixtynine': 'sixtynine.mp4', 'sixtyone': 'sixtyone.mp4', 'sixtysix': 'sixtysix.mp4', 'skill': 'skill.mp4', 'sixtythree': 'sixtythree.mp4', 'skeptical': 'skeptical.mp4', 'skip': 'skip.mp4', 'skinny': 'skinny.mp4', 'skirt': 'skirt.mp4', 'sixhundred': 'sixhundred.mp4', 'ski': 'ski.mp4', 'skunk': 'skunk.mp4', 'sleep': 'sleep.mp4', 'slice': 'slice.mp4', 'slow': 'slow.mp4', 'slip': 'slip.mp4', 'slide': 'slide.mp4', 'smallperson': 'smallperson.mp4', 'small': 'small.mp4', 'smart': 'smart.mp4', 'smell': 'smell.mp4', 'smoke': 'smoke.mp4', 'smile': 'smile.mp4', 'snake': 'snake.mp4', 'snail': 'snail.mp4', 'snap': 'snap.mp4', 'snakev': 'snakev.mp4', 'soap': 'soap.mp4', 'snowman': 'snowman.mp4', 'sneeze': 'sneeze.mp4', 'soccer': 'soccer.mp4', 'snow': 'snow.mp4', 'sowhat': 'sowhat.mp4', 'socialize': 'socialize.mp4', 'society': 'society.mp4', 'solid': 'solid.mp4', 'socks': 'socks.mp4', 'solitary': 'solitary.mp4', 'soon': 'soon.mp4', 'son': 'son.mp4', 'sometime': 'sometime.mp4', 'sorry': 'sorry.mp4', 'sophomore': 'sophomore.mp4', 'space': 'space.mp4', 'sound': 'sound.mp4', 'spanish': 'spanish.mp4', 'special': 'special.mp4', 'soup': 'soup.mp4', 'spaghetti': 'spaghetti.mp4', 'specialist': 'specialist.mp4', 'spot': 'spot.mp4', 'square': 'square.mp4', 'squish': 'squish.mp4', 'stink': 'stink.mp4', 'start': 'start.mp4', 'stamp': 'stamp.mp4', 'straight': 'straight.mp4', 'strategy': 'strategy.mp4', 'strict': 'strict.mp4', 'stubborn': 'stubborn.mp4', 'summon': 'summon.mp4', 'summarize': 'summarize.mp4', 'support': 'support.mp4', 'superskill': 'superskill.mp4', 'sweetcake': 'sweetcake.mp4', 'summer': 'summer.mp4', 'surgery': 'surgery.mp4', 'sweetheart': 'sweetheart.mp4', 'system': 'system.mp4', 'take': 'take.mp4', 'takeoff': 'takeoff.mp4', 'takeorally': 'takeorally.mp4', 'teacher': 'teacher.mp4', 'tea': 'tea.mp4', 'tech': 'tech.mp4', 'temporary': 'temporary.mp4', 'that': 'that.mp4', 'therest': 'therest.mp4', 'think': 'think.mp4', 'thin': 'thin.mp4', 'numberyearsold': 'numberyearsold.mp4', 'this': 'this.mp4', 'threehundred': 'threehundred.mp4', 'numberweeks': 'numberweeks.mp4', 'thirtyfour': 'thirtyfour.mp4', 'thrill': 'thrill.mp4', 'throw': 'throw.mp4', 'time': 'time.mp4', 'timenumber': 'timenumber.mp4', 'numberminutes': 'numberminutes.mp4', 'tomorrow': 'tomorrow.mp4', 'tired': 'tired.mp4', 'tradition': 'tradition.mp4', 'totallydeaf': 'totallydeaf.mp4', 'tractor': 'tractor.mp4', 'traffic': 'traffic.mp4', 'training': 'training.mp4', 'train': 'train.mp4', 'transgender': 'transgender.mp4', 'topic': 'topic.mp4', 'corpus': 'corpus.mp4', 'corkscrew': 'corkscrew.mp4', 'country': 'country.mp4', 'cover': 'cover.mp4', 'coverup': 'coverup.mp4', 'cool': 'cool.mp4', 'crawl': 'crawl.mp4', 'cracker': 'cracker.mp4', 'crackup': 'crackup.mp4', 'count': 'count.mp4', 'crazyabout': 'crazyabout.mp4', 'cross': 'cross.mp4', 'croissant': 'croissant.mp4', 'croatia': 'croatia.mp4', 'crossheart': 'crossheart.mp4', 'crown': 'crown.mp4', 'cry': 'cry.mp4', 'counselor': 'counselor.mp4', 'contact': 'contact.mp4', 'coolweather': 'coolweather.mp4', 'copy': 'copy.mp4', 'consume': 'consume.mp4', 'corner': 'corner.mp4', 'crack': 'crack.mp4', 'correct': 'correct.mp4', 'counsel': 'counsel.mp4', 'cough': 'cough.mp4', 'cousin': 'cousin.mp4', 'crave': 'crave.mp4', 'cranky': 'cranky.mp4', 'create': 'create.mp4', 'crazy': 'crazy.mp4', 'curriculum': 'curriculum.mp4', 'crocodile': 'crocodile.mp4', 'curse': 'curse.mp4', 'cuba': 'cuba.mp4', 'czechrepublic': 'czechrepublic.mp4', 'cuteor': 'cuteor.mp4', 'curtain': 'curtain.mp4', 'dart': 'dart.mp4', 'dentist': 'dentist.mp4', 'deflate': 'deflate.mp4', 'denmark': 'denmark.mp4', 'dealcards': 'dealcards.mp4', 'dancer': 'dancer.mp4', 'departmentstore': 'departmentstore.mp4', 'deodorant': 'deodorant.mp4', 'deny': 'deny.mp4', 'devil': 'devil.mp4', 'depleted': 'depleted.mp4', 'diamond': 'diamond.mp4', 'dice': 'dice.mp4', 'dilemma': 'dilemma.mp4', 'dirty': 'dirty.mp4', 'culture': 'culture.mp4', 'dinosaur': 'dinosaur.mp4', 'daily': 'daily.mp4', 'curious': 'curious.mp4', 'dance': 'dance.mp4', 'dancestep': 'dancestep.mp4', 'curlyhair': 'curlyhair.mp4', 'dangerous': 'dangerous.mp4', 'daughter': 'daughter.mp4', 'dark': 'dark.mp4', 'deaf': 'deaf.mp4', 'deafschool': 'deafschool.mp4', 'date': 'date.mp4', 'day': 'day.mp4', 'decide': 'decide.mp4', 'deep': 'deep.mp4', 'decorate': 'decorate.mp4', 'deliberate': 'deliberate.mp4', 'delegate': 'delegate.mp4', 'decrease': 'decrease.mp4', 'delicious': 'delicious.mp4', 'degree': 'degree.mp4', 'department': 'department.mp4', 'depend': 'depend.mp4', 'depart': 'depart.mp4', 'design': 'design.mp4', 'desert': 'desert.mp4', 'depressed': 'depressed.mp4', 'desire': 'desire.mp4', 'destroy': 'destroy.mp4', 'dent': 'dent.mp4', 'dessert': 'dessert.mp4', 'develop': 'develop.mp4', 'dinner': 'dinner.mp4', 'diaper': 'diaper.mp4', 'dirtytalk': 'dirtytalk.mp4', 'disconnect': 'disconnect.mp4', 'discriminate': 'discriminate.mp4', 'disagreement': 'disagreement.mp4', 'disappear': 'disappear.mp4', 'die': 'die.mp4', 'disease': 'disease.mp4', 'dismiss': 'dismiss.mp4', 'different': 'different.mp4', 'disney': 'disney.mp4', 'dive': 'dive.mp4', 'disengage': 'disengage.mp4', 'discuss': 'discuss.mp4', 'diverse': 'diverse.mp4', 'divide': 'divide.mp4', 'dodo': 'dodo.mp4', 'dispute': 'dispute.mp4', 'stethoscope': 'stethoscope.mp4', 'diversity': 'diversity.mp4', 'doctor': 'doctor.mp4', 'fallasleep': 'fallasleep.mp4', 'feetwalk': 'feetwalk.mp4', 'fiftyone': 'fiftyone.mp4', 'figure': 'figure.mp4', 'fix': 'fix.mp4', 'find': 'find.mp4', 'focus': 'focus.mp4', 'director': 'director.mp4', 'divert': 'divert.mp4', 'disappoint': 'disappoint.mp4', 'dissolve': 'dissolve.mp4', 'disgusted': 'disgusted.mp4', 'dizzy': 'dizzy.mp4', 'dog': 'dog.mp4', 'discourse': 'discourse.mp4', 'dognose': 'dognose.mp4', 'document': 'document.mp4', 'doll': 'doll.mp4', \"don't\": \"don't.mp4\", 'dominant': 'dominant.mp4', 'dolphin': 'dolphin.mp4', \"don'tfeellike\": \"don'tfeellike.mp4\", \"don'thave\": \"don'thave.mp4\", \"don'tcare\": \"don'tcare.mp4\", \"don'tneed\": \"don'tneed.mp4\", \"don'tknow\": \"don'tknow.mp4\", \"don'tmind\": \"don'tmind.mp4\", 'door': 'door.mp4', \"don'twant\": \"don'twant.mp4\", 'double': 'double.mp4', \"don'tlike\": \"don'tlike.mp4\", 'donut': 'donut.mp4', 'down': 'down.mp4', 'donkey': 'donkey.mp4', 'download': 'download.mp4', 'downsize': 'downsize.mp4', 'dormitory': 'dormitory.mp4', 'dream': 'dream.mp4', 'doughnut': 'doughnut.mp4', 'downtown': 'downtown.mp4', 'dress': 'dress.mp4', 'dressup': 'dressup.mp4', 'draw': 'draw.mp4', 'drink': 'drink.mp4', 'drill': 'drill.mp4', 'drive': 'drive.mp4', 'drown': 'drown.mp4', 'dry': 'dry.mp4', 'drop': 'drop.mp4', 'dryer': 'dryer.mp4', 'downhill': 'downhill.mp4', 'drawer': 'drawer.mp4', 'doubt': 'doubt.mp4', 'dresser': 'dresser.mp4', 'driver': 'driver.mp4', 'drum': 'drum.mp4', 'drunk': 'drunk.mp4', 'dollar': 'dollar.mp4', 'duck': 'duck.mp4', 'due': 'due.mp4', 'dumb': 'dumb.mp4', 'dumbfounded': 'dumbfounded.mp4', 'callout': 'callout.mp4', 'call': 'call.mp4', 'duty': 'duty.mp4', 'comeon': 'comeon.mp4', 'beckon': 'beckon.mp4', 'dye': 'dye.mp4', 'comehere': 'comehere.mp4', 'congratulations': 'congratulations.mp4', 'giveme': 'giveme.mp4', 'confused': 'confused.mp4', 'convince': 'convince.mp4', 'calmdown': 'calmdown.mp4', 'fingerscrossed': 'fingerscrossed.mp4', 'goaway': 'goaway.mp4', 'forgetit': 'forgetit.mp4', 'goon': 'goon.mp4', 'connect': 'connect.mp4', 'converge': 'converge.mp4', 'keepgoing': 'keepgoing.mp4', 'okay': 'okay.mp4', 'moveback': 'moveback.mp4', 'out': 'out.mp4', 'moveaside': 'moveaside.mp4', 'perfect': 'perfect.mp4', 'cook': 'cook.mp4', 'scold': 'scold.mp4', 'peace': 'peace.mp4', 'smelly': 'smelly.mp4', 'raiseup': 'raiseup.mp4', 'shh': 'shh.mp4', 'staystill': 'staystill.mp4', 'soso': 'soso.mp4', 'coordinate': 'coordinate.mp4', 'cooking': 'cooking.mp4', 'corn': 'corn.mp4', 'stopit': 'stopit.mp4', 'eagle': 'eagle.mp4', 'eachother': 'eachother.mp4', 'timeout': 'timeout.mp4', 'staythere': 'staythere.mp4', 'tsktsk': 'tsktsk.mp4', 'waitoneminute': 'waitoneminute.mp4', 'early': 'early.mp4', 'earn': 'earn.mp4', 'takeyourtime': 'takeyourtime.mp4', 'ear': 'ear.mp4', 'earring': 'earring.mp4', 'east': 'east.mp4', 'earlytime': 'earlytime.mp4', 'easter': 'easter.mp4', 'earthquake': 'earthquake.mp4', 'easy': 'easy.mp4', 'eatmorning': 'eatmorning.mp4', 'egg': 'egg.mp4', 'edit': 'edit.mp4', 'try': 'try.mp4', 'eighthundred': 'eighthundred.mp4', 'eight': 'eight.mp4', 'eightyeight': 'eightyeight.mp4', 'eightmonths': 'eightmonths.mp4', 'eightyone': 'eightyone.mp4', 'either': 'either.mp4', 'elementaryschool': 'elementaryschool.mp4', 'eat': 'eat.mp4', 'english': 'english.mp4', 'encourage': 'encourage.mp4', 'eritrea': 'eritrea.mp4', 'engagement': 'engagement.mp4', 'email': 'email.mp4', 'engineering': 'engineering.mp4', 'era': 'era.mp4', 'ethiopia': 'ethiopia.mp4', 'example': 'example.mp4', 'exact': 'exact.mp4', 'expand': 'expand.mp4', 'enough': 'enough.mp4', 'explanation': 'explanation.mp4', 'express': 'express.mp4', 'eyepatch': 'eyepatch.mp4', 'faint': 'faint.mp4', 'fan': 'fan.mp4', 'farm': 'farm.mp4', 'fast': 'fast.mp4', 'fashion': 'fashion.mp4', 'face': 'face.mp4', 'falldown': 'falldown.mp4', 'february': 'february.mp4', 'fault': 'fault.mp4', 'fiftyeight': 'fiftyeight.mp4', 'fifteen': 'fifteen.mp4', 'film': 'film.mp4', 'favorite': 'favorite.mp4', 'first': 'first.mp4', 'finally': 'finally.mp4', 'finland': 'finland.mp4', 'firefighter': 'firefighter.mp4', 'female': 'female.mp4', 'flute': 'flute.mp4', 'for': 'for.mp4', 'fond': 'fond.mp4', 'follow': 'follow.mp4', 'footballball': 'footballball.mp4', 'fool': 'fool.mp4', 'football': 'football.mp4', 'forbid': 'forbid.mp4', 'forfeit': 'forfeit.mp4', 'force': 'force.mp4', 'forever': 'forever.mp4', 'forest': 'forest.mp4', 'forget': 'forget.mp4', 'fortyfour': 'fortyfour.mp4', 'form': 'form.mp4', 'fortynine': 'fortynine.mp4', 'fork': 'fork.mp4', 'fortyone': 'fortyone.mp4', 'fortysix': 'fortysix.mp4', 'fortythree': 'fortythree.mp4', 'foreigner': 'foreigner.mp4', 'former': 'former.mp4', 'foul': 'foul.mp4', 'fortytwo': 'fortytwo.mp4', 'fortyseven': 'fortyseven.mp4', 'four': 'four.mp4', 'forty': 'forty.mp4', 'fourthousand': 'fourthousand.mp4', 'fourhundred': 'fourhundred.mp4', 'fox': 'fox.mp4', 'fourth': 'fourth.mp4', 'frame': 'frame.mp4', 'fourteen': 'fourteen.mp4', 'fraternity': 'fraternity.mp4', 'freakout': 'freakout.mp4', 'free': 'free.mp4', 'fraud': 'fraud.mp4', 'france': 'france.mp4', 'freckles': 'freckles.mp4', 'frenchfries': 'frenchfries.mp4', 'freeze': 'freeze.mp4', 'from': 'from.mp4', 'friday': 'friday.mp4', 'friend': 'friend.mp4', 'friendly': 'friendly.mp4', 'freshman': 'freshman.mp4', 'frisbee': 'frisbee.mp4', 'fromthenon': 'fromthenon.mp4', 'front': 'front.mp4', 'frown': 'frown.mp4', 'frog': 'frog.mp4', 'fun': 'fun.mp4', 'fs': 'fs.mp4', 'frustrated': 'frustrated.mp4', 'fruit': 'fruit.mp4', 'full': 'full.mp4', 'funzero': 'funzero.mp4', 'funny': 'funny.mp4', 'function': 'function.mp4', 'fuck': 'fuck.mp4', 'fuckup': 'fuckup.mp4', 'gallaudet': 'gallaudet.mp4', 'future': 'future.mp4', 'funeral': 'funeral.mp4', 'garbage': 'garbage.mp4', 'game': 'game.mp4', 'garage': 'garage.mp4', 'gather': 'gather.mp4', 'furniture': 'furniture.mp4', 'gas': 'gas.mp4', 'german': 'german.mp4', 'gay': 'gay.mp4', 'get': 'get.mp4', 'generation': 'generation.mp4', 'ghost': 'ghost.mp4', 'gesticulate': 'gesticulate.mp4', 'getoff': 'getoff.mp4', 'getup': 'getup.mp4', 'gettogether': 'gettogether.mp4', 'getinbed': 'getinbed.mp4', 'ghana': 'ghana.mp4', 'giraffe': 'giraffe.mp4', 'getattention': 'getattention.mp4', 'gesture': 'gesture.mp4', 'getin': 'getin.mp4', 'girl': 'girl.mp4', 'gibberish': 'gibberish.mp4', 'give': 'give.mp4', 'girlfriend': 'girlfriend.mp4', 'giveup': 'giveup.mp4', 'glass': 'glass.mp4', 'glasses': 'glasses.mp4', 'glimpse': 'glimpse.mp4', 'glove': 'glove.mp4', 'gobackandforth': 'gobackandforth.mp4', 'gothrough': 'gothrough.mp4', 'goahead': 'goahead.mp4', 'glow': 'glow.mp4', 'goback': 'goback.mp4', 'gold': 'gold.mp4', 'goat': 'goat.mp4', 'goatbeard': 'goatbeard.mp4', 'god': 'god.mp4', 'goal': 'goal.mp4', 'golf': 'golf.mp4', 'gone': 'gone.mp4', 'gorilla': 'gorilla.mp4', 'goodenough': 'goodenough.mp4', 'good': 'good.mp4', 'goodfriends': 'goodfriends.mp4', 'germany': 'germany.mp4', 'grade': 'grade.mp4', 'government': 'government.mp4', 'gossip': 'gossip.mp4', 'grab': 'grab.mp4', 'gouge': 'gouge.mp4', 'go': 'go.mp4', 'graduateschool': 'graduateschool.mp4', 'gradeletter': 'gradeletter.mp4', 'graduate': 'graduate.mp4', 'grandmother': 'grandmother.mp4', 'grammar': 'grammar.mp4', 'grandparents': 'grandparents.mp4', 'grapes': 'grapes.mp4', 'grass': 'grass.mp4', 'grandfather': 'grandfather.mp4', 'grasshopper': 'grasshopper.mp4', 'greek': 'greek.mp4', 'greece': 'greece.mp4', 'gray': 'gray.mp4', 'great': 'great.mp4', 'grey': 'grey.mp4', 'grease': 'grease.mp4', 'grieve': 'grieve.mp4', 'green': 'green.mp4', 'greenbean': 'greenbean.mp4', 'ground': 'ground.mp4', 'grill': 'grill.mp4', 'growup': 'growup.mp4', 'grin': 'grin.mp4', 'grow': 'grow.mp4', 'group': 'group.mp4', 'adult': 'adult.mp4', 'guatemala': 'guatemala.mp4', 'guilty': 'guilty.mp4', 'guess': 'guess.mp4', 'gun': 'gun.mp4', 'gum': 'gum.mp4', 'guitar': 'guitar.mp4', 'guy': 'guy.mp4', 'haircut': 'haircut.mp4', 'haha': 'haha.mp4', 'hadenough': 'hadenough.mp4', 'hair': 'hair.mp4', 'hairdryer': 'hairdryer.mp4', 'hall': 'hall.mp4', 'haiti': 'haiti.mp4', 'half': 'half.mp4', 'halfhour': 'halfhour.mp4', 'hands': 'hands.mp4', 'halloween': 'halloween.mp4', 'hammer': 'hammer.mp4', 'hangup': 'hangup.mp4', 'handsoff': 'handsoff.mp4', 'hanger': 'hanger.mp4', 'hamburger': 'hamburger.mp4', 'hangover': 'hangover.mp4', 'happen': 'happen.mp4', 'happy': 'happy.mp4', 'handlesituation': 'handlesituation.mp4', 'harp': 'harp.mp4', 'harmonica': 'harmonica.mp4', 'hardofhearing': 'hardofhearing.mp4', 'hark': 'hark.mp4', 'hard': 'hard.mp4', 'hat': 'hat.mp4', 'hartford': 'hartford.mp4', 'harrisburg': 'harrisburg.mp4', 'hanukkah': 'hanukkah.mp4', 'hatbrim': 'hatbrim.mp4', 'hate': 'hate.mp4', 'have': 'have.mp4', 'headback': 'headback.mp4', 'head': 'head.mp4', 'hawaii': 'hawaii.mp4', 'headphones': 'headphones.mp4', 'headache': 'headache.mp4', 'headcold': 'headcold.mp4', 'hearing': 'hearing.mp4', 'health': 'health.mp4', 'heap': 'heap.mp4', 'hearingaid': 'hearingaid.mp4', 'heartbody': 'heartbody.mp4', 'helmet': 'helmet.mp4', 'heaven': 'heaven.mp4', 'helicopter': 'helicopter.mp4', 'here': 'here.mp4', 'help': 'help.mp4', 'hello': 'hello.mp4', 'hide': 'hide.mp4', 'high': 'high.mp4', 'hippie': 'hippie.mp4', 'hippo': 'hippo.mp4', 'hitstick': 'hitstick.mp4', 'hold': 'hold.mp4', 'history': 'history.mp4', 'hockey': 'hockey.mp4', 'hochiminh': 'hochiminh.mp4', 'holiday': 'holiday.mp4', 'holdhands': 'holdhands.mp4', 'hit': 'hit.mp4', 'home': 'home.mp4', 'homework': 'homework.mp4', 'honest': 'honest.mp4', 'honey': 'honey.mp4', 'hole': 'hole.mp4', 'honeynectar': 'honeynectar.mp4', 'honor': 'honor.mp4', 'hood': 'hood.mp4', 'honorific': 'honorific.mp4', 'honk': 'honk.mp4', 'hospital': 'hospital.mp4', 'horse': 'horse.mp4', 'hospitalhead': 'hospitalhead.mp4', 'patient': 'patient.mp4', 'hope': 'hope.mp4', 'hot': 'hot.mp4', 'hour': 'hour.mp4', 'hotdog': 'hotdog.mp4', 'human': 'human.mp4', 'hotel': 'hotel.mp4', 'house': 'house.mp4', 'houseplant': 'houseplant.mp4', 'humble': 'humble.mp4', 'humor': 'humor.mp4', 'hug': 'hug.mp4', 'how': 'how.mp4', 'hypocrite': 'hypocrite.mp4', 'ignore': 'ignore.mp4', 'iloveyou': 'iloveyou.mp4', 'husband': 'husband.mp4', 'imagine': 'imagine.mp4', 'inject': 'inject.mp4', 'indoctrinate': 'indoctrinate.mp4', 'impression': 'impression.mp4', 'inch': 'inch.mp4', 'interact': 'interact.mp4', 'influence': 'influence.mp4', 'intelligent': 'intelligent.mp4', 'invest': 'invest.mp4', 'intercourse': 'intercourse.mp4', 'ireland': 'ireland.mp4', 'internalize': 'internalize.mp4', 'jacket': 'jacket.mp4', 'iron': 'iron.mp4', 'ixarc': 'ixarc.mp4', 'jealouspinky': 'jealouspinky.mp4', 'jamaica': 'jamaica.mp4', 'jawdrop': 'jawdrop.mp4', 'japan': 'japan.mp4', 'jeans': 'jeans.mp4', 'kiss': 'kiss.mp4', 'juggle': 'juggle.mp4', 'jewish': 'jewish.mp4', 'jump': 'jump.mp4', 'kneesbuckle': 'kneesbuckle.mp4', 'kitten': 'kitten.mp4', 'kill': 'kill.mp4', 'knownothing': 'knownothing.mp4', 'korea': 'korea.mp4', 'kick': 'kick.mp4', 'lamp': 'lamp.mp4', 'knockoff': 'knockoff.mp4', 'knife': 'knife.mp4', 'lesson': 'lesson.mp4', 'lecture': 'lecture.mp4', 'lawyer': 'lawyer.mp4', 'lessthan': 'lessthan.mp4', 'letterx': 'letterx.mp4', 'lettuce': 'lettuce.mp4', 'lesbian': 'lesbian.mp4', 'license': 'license.mp4', 'lettert': 'lettert.mp4', 'letterj': 'letterj.mp4', 'quality': 'quality.mp4', 'puzzled': 'puzzled.mp4', 'mainstream': 'mainstream.mp4', 'makebelieve': 'makebelieve.mp4', 'makemistake': 'makemistake.mp4', 'makeup': 'makeup.mp4', 'major': 'major.mp4', 'make': 'make.mp4', 'manage': 'manage.mp4', 'man': 'man.mp4', 'many': 'many.mp4', 'maplesyrup': 'maplesyrup.mp4', 'malaysia': 'malaysia.mp4', 'marchmonth': 'marchmonth.mp4', 'marble': 'marble.mp4', 'marionette': 'marionette.mp4', 'mascara': 'mascara.mp4', 'marry': 'marry.mp4', 'mcdonalds': 'mcdonalds.mp4', 'masticate': 'masticate.mp4', 'match': 'match.mp4', 'math': 'math.mp4', 'mean': 'mean.mp4', 'meaning': 'meaning.mp4', 'maybe': 'maybe.mp4', 'medicine': 'medicine.mp4', 'meat': 'meat.mp4', 'measure': 'measure.mp4', 'meet': 'meet.mp4', 'meeting': 'meeting.mp4', 'mechanic': 'mechanic.mp4', 'melbourne': 'melbourne.mp4', 'mention': 'mention.mp4', 'metal': 'metal.mp4', 'memorize': 'memorize.mp4', 'metaphor': 'metaphor.mp4', 'mess': 'mess.mp4', 'member': 'member.mp4', 'mexican': 'mexican.mp4', 'mickeymouse': 'mickeymouse.mp4', 'middle': 'middle.mp4', 'mexico': 'mexico.mp4', 'microscope': 'microscope.mp4', 'mind': 'mind.mp4', 'microwave': 'microwave.mp4', 'mindblank': 'mindblank.mp4', 'milk': 'milk.mp4', 'mindset': 'mindset.mp4', 'mime': 'mime.mp4', 'minimum': 'minimum.mp4', 'mine': 'mine.mp4', 'minute': 'minute.mp4', 'million': 'million.mp4', 'mindturned': 'mindturned.mp4', 'missget': 'missget.mp4', 'mirror': 'mirror.mp4', 'mistake': 'mistake.mp4', 'mittens': 'mittens.mp4', 'miss': 'miss.mp4', 'mix': 'mix.mp4', 'mock': 'mock.mp4', 'modeltype': 'modeltype.mp4', 'misunderstand': 'misunderstand.mp4', 'monday': 'monday.mp4', 'moldova': 'moldova.mp4', 'model': 'model.mp4', 'mischievous': 'mischievous.mp4', 'monkey': 'monkey.mp4', 'montana': 'montana.mp4', 'monster': 'monster.mp4', 'money': 'money.mp4', 'month': 'month.mp4', 'moon': 'moon.mp4', 'more': 'more.mp4', 'mop': 'mop.mp4', 'morning': 'morning.mp4', 'mosquitohand': 'mosquitohand.mp4', 'mosquitonose': 'mosquitonose.mp4', 'most': 'most.mp4', 'morocco': 'morocco.mp4', 'mother': 'mother.mp4', 'motivate': 'motivate.mp4', 'mountain': 'mountain.mp4', 'mouse': 'mouse.mp4', 'mouth': 'mouth.mp4', 'mouthtalk': 'mouthtalk.mp4', 'move': 'move.mp4', 'mouththermometer': 'mouththermometer.mp4', 'motorcycle': 'motorcycle.mp4', 'museum': 'museum.mp4', 'music': 'music.mp4', 'moveaway': 'moveaway.mp4', 'movie': 'movie.mp4', 'much': 'much.mp4', 'nail': 'nail.mp4', 'mustache': 'mustache.mp4', 'must': 'must.mp4', 'needidgloss': 'needidgloss.mp4', 'nailclippers': 'nailclippers.mp4', 'name': 'name.mp4', 'naked': 'naked.mp4', 'nailpolish': 'nailpolish.mp4', 'near': 'near.mp4', 'necklace': 'necklace.mp4', 'neck': 'neck.mp4', 'necktie': 'necktie.mp4', 'navy': 'navy.mp4', 'negative': 'negative.mp4', 'need': 'need.mp4', 'napkin': 'napkin.mp4', 'nephew': 'nephew.mp4', 'needle': 'needle.mp4', 'network': 'network.mp4', 'neutral': 'neutral.mp4', 'new': 'new.mp4', 'newlondon': 'newlondon.mp4', 'never': 'never.mp4', 'nextyear': 'nextyear.mp4', 'next': 'next.mp4', 'newyork': 'newyork.mp4', 'nextto': 'nextto.mp4', 'nextweek': 'nextweek.mp4', 'nine': 'nine.mp4', 'nice': 'nice.mp4', 'niece': 'niece.mp4', 'nineteen': 'nineteen.mp4', 'ninetyeight': 'ninetyeight.mp4', 'ninetyfour': 'ninetyfour.mp4', 'ninetynine': 'ninetynine.mp4', 'ninetyone': 'ninetyone.mp4', 'ninetyseven': 'ninetyseven.mp4', 'ninetytwo': 'ninetytwo.mp4', 'ninetyfive': 'ninetyfive.mp4', 'ninetysix': 'ninetysix.mp4', 'ninetythree': 'ninetythree.mp4', 'no': 'no.mp4', 'nomore': 'nomore.mp4', 'nobigdeal': 'nobigdeal.mp4', 'north': 'north.mp4', 'noise': 'noise.mp4', 'notyet': 'notyet.mp4', 'none': 'none.mp4', 'normal': 'normal.mp4', 'nose': 'nose.mp4', 'notneed': 'notneed.mp4', 'notice': 'notice.mp4', 'nothing': 'nothing.mp4', 'notathing': 'notathing.mp4', 'nothingatall': 'nothingatall.mp4', 'now': 'now.mp4', 'nurse': 'nurse.mp4', 'obsess': 'obsess.mp4', 'nut': 'nut.mp4', 'number': 'number.mp4', 'wave': 'wave.mp4', 'lightshine': 'lightshine.mp4', 'lie': 'lie.mp4', 'ocean': 'ocean.mp4', 'lick': 'lick.mp4', 'offend': 'offend.mp4', 'offthepoint': 'offthepoint.mp4', 'octopus': 'octopus.mp4', 'off': 'off.mp4', 'ofcourse': 'ofcourse.mp4', 'on': 'on.mp4', 'old': 'old.mp4', 'official': 'official.mp4', 'often': 'often.mp4', 'oil': 'oil.mp4', 'office': 'office.mp4', 'oldest': 'oldest.mp4', 'once': 'once.mp4', 'one': 'one.mp4', 'onemore': 'onemore.mp4', 'onethousand': 'onethousand.mp4', 'ontonext': 'ontonext.mp4', 'lightweight': 'lightweight.mp4', 'ooh': 'ooh.mp4', 'onlyself': 'onlyself.mp4', 'open': 'open.mp4', 'onion': 'onion.mp4', 'opendoor': 'opendoor.mp4', 'lighter': 'lighter.mp4', 'openbook': 'openbook.mp4', 'openwindow': 'openwindow.mp4', 'openlid': 'openlid.mp4', 'oppress': 'oppress.mp4', 'option': 'option.mp4', 'lift': 'lift.mp4', 'operate': 'operate.mp4', 'opportunity': 'opportunity.mp4', 'opinion': 'opinion.mp4', 'organization': 'organization.mp4', 'order': 'order.mp4', 'opposite': 'opposite.mp4', 'pacifier': 'pacifier.mp4', 'or': 'or.mp4', 'oral': 'oral.mp4', 'orange': 'orange.mp4', 'outdoors': 'outdoors.mp4', 'limit': 'limit.mp4', 'lion': 'lion.mp4', 'line': 'line.mp4', 'lipread': 'lipread.mp4', 'overwhelm': 'overwhelm.mp4', 'pants': 'pants.mp4', 'linguistics': 'linguistics.mp4', 'pass': 'pass.mp4', 'passout': 'passout.mp4', 'past': 'past.mp4', 'paint': 'paint.mp4', 'lineofpeople': 'lineofpeople.mp4', 'payoffbills': 'payoffbills.mp4', 'lipstick': 'lipstick.mp4', 'list': 'list.mp4', 'peekaboo': 'peekaboo.mp4', 'listitems': 'listitems.mp4', 'pennsylvania': 'pennsylvania.mp4', 'lithuania': 'lithuania.mp4', 'physicalhealth': 'physicalhealth.mp4', 'philosophy': 'philosophy.mp4', 'phillies': 'phillies.mp4', 'person': 'person.mp4', 'pickon': 'pickon.mp4', 'little': 'little.mp4', 'live': 'live.mp4', 'lollipop': 'lollipop.mp4', 'lonely': 'lonely.mp4', 'london': 'london.mp4', 'lock': 'lock.mp4', 'longword': 'longword.mp4', 'longago': 'longago.mp4', 'look': 'look.mp4', 'lookappearance': 'lookappearance.mp4', 'long': 'long.mp4', 'longtime': 'longtime.mp4', 'pill': 'pill.mp4', 'pickle': 'pickle.mp4', 'pillow': 'pillow.mp4', 'looklike': 'looklike.mp4', 'lookback': 'lookback.mp4', 'lord': 'lord.mp4', 'pirate': 'pirate.mp4', 'picture': 'picture.mp4', 'lousy': 'lousy.mp4', 'losegame': 'losegame.mp4', 'loud': 'loud.mp4', 'lookforward': 'lookforward.mp4', 'loyal': 'loyal.mp4', 'love': 'love.mp4', 'lost': 'lost.mp4', 'luck': 'luck.mp4', 'macau': 'macau.mp4', 'pizza': 'pizza.mp4', 'machine': 'machine.mp4', 'lunch': 'lunch.mp4', 'lucky': 'lucky.mp4', 'magnet': 'magnet.mp4', 'mad': 'mad.mp4', 'mail': 'mail.mp4', 'maine': 'maine.mp4', 'magic': 'magic.mp4', 'makefunof': 'makefunof.mp4', 'plunger': 'plunger.mp4', 'place': 'place.mp4', 'makefun': 'makefun.mp4', 'police': 'police.mp4', 'policy': 'policy.mp4', 'positive': 'positive.mp4', 'politics': 'politics.mp4', 'poss': 'poss.mp4', 'possum': 'possum.mp4', 'poor': 'poor.mp4', 'please': 'please.mp4', 'practice': 'practice.mp4', 'predict': 'predict.mp4', 'pride': 'pride.mp4', 'priest': 'priest.mp4', 'pour': 'pour.mp4', 'priority': 'priority.mp4', 'provide': 'provide.mp4', 'punish': 'punish.mp4', 'like': 'like.mp4', 'purple': 'purple.mp4', 'light': 'light.mp4', 'project': 'project.mp4', 'blinds': 'blinds.mp4', 'are': 'are.mp4', 'backbody': 'backbody.mp4', 'argentina': 'argentina.mp4', 'balance': 'balance.mp4', 'accountant': 'accountant.mp4', 'alittlebit': 'alittlebit.mp4', 'abhor': 'abhor.mp4', 'about': 'about.mp4', 'accepthard': 'accepthard.mp4', 'absolutelynothing': 'absolutelynothing.mp4', 'accept': 'accept.mp4', 'access': 'access.mp4', 'action': 'action.mp4', 'act': 'act.mp4', 'activity': 'activity.mp4', 'can': 'can.mp4', 'admit': 'admit.mp4', 'challenge': 'challenge.mp4', 'accident': 'accident.mp4', 'champion': 'champion.mp4', 'agagain': 'agagain.mp4', 'ahem': 'ahem.mp4', 'aiairplanefly': 'aiairplanefly.mp4', 'alarm': 'alarm.mp4', 'albania': 'albania.mp4', 'alcohol': 'alcohol.mp4', 'appear': 'appear.mp4', 'animal': 'animal.mp4', 'area': 'area.mp4', 'argue': 'argue.mp4', 'arizona': 'arizona.mp4', 'austria': 'austria.mp4', 'autism': 'autism.mp4', 'arrive': 'arrive.mp4', 'avoid': 'avoid.mp4', 'awaygame': 'awaygame.mp4', 'automatic': 'automatic.mp4', 'awfulwow': 'awfulwow.mp4', 'awful': 'awful.mp4', 'away': 'away.mp4', 'bachelor': 'bachelor.mp4', 'backof': 'backof.mp4', 'awkward': 'awkward.mp4', 'back': 'back.mp4', 'baby': 'baby.mp4', 'background': 'background.mp4', 'babysitter': 'babysitter.mp4', 'bacon': 'bacon.mp4', 'bag': 'bag.mp4', 'backpack': 'backpack.mp4', 'ball': 'ball.mp4', 'bad': 'bad.mp4', 'bake': 'bake.mp4', 'bandage': 'bandage.mp4', 'banana': 'banana.mp4', 'balloon': 'balloon.mp4', 'bandaid': 'bandaid.mp4', 'banter': 'banter.mp4', 'bar': 'bar.mp4', 'baptize': 'baptize.mp4', 'baptist': 'baptist.mp4', 'bark': 'bark.mp4', 'baseball': 'baseball.mp4', 'basement': 'basement.mp4', 'barely': 'barely.mp4', 'bathroom': 'bathroom.mp4', 'bass': 'bass.mp4', 'basketball': 'basketball.mp4', 'basic': 'basic.mp4', 'bath': 'bath.mp4', 'bawlout': 'bawlout.mp4', 'bat': 'bat.mp4', 'careful': 'careful.mp4', 'battery': 'battery.mp4', 'besame': 'besame.mp4', 'beach': 'beach.mp4', 'ready': 'ready.mp4', 'belgium': 'belgium.mp4', 'beer': 'beer.mp4', 'beltband': 'beltband.mp4', 'beg': 'beg.mp4', 'behind': 'behind.mp4', 'bet': 'bet.mp4', 'between': 'between.mp4', 'bestfriend': 'bestfriend.mp4', 'betweenus': 'betweenus.mp4', 'bicycle': 'bicycle.mp4', 'better': 'better.mp4', 'binoculars': 'binoculars.mp4', 'big': 'big.mp4', 'bigsize': 'bigsize.mp4', 'biology': 'biology.mp4', 'bird': 'bird.mp4', 'birthday': 'birthday.mp4', 'birthdaycandles': 'birthdaycandles.mp4', 'bite': 'bite.mp4', 'birth': 'birth.mp4', 'birthdayhappy': 'birthdayhappy.mp4', 'birthdaysing': 'birthdaysing.mp4', 'bitter': 'bitter.mp4', 'biscuit': 'biscuit.mp4', 'black': 'black.mp4', 'blesscross': 'blesscross.mp4', 'birthdayear': 'birthdayear.mp4', 'blank': 'blank.mp4', 'blade': 'blade.mp4', 'blame': 'blame.mp4', 'bless': 'bless.mp4', 'bitch': 'bitch.mp4', 'blanket': 'blanket.mp4', 'blind': 'blind.mp4', 'bling': 'bling.mp4', 'blood': 'blood.mp4', 'blouse': 'blouse.mp4', 'blush': 'blush.mp4', 'blur': 'blur.mp4', 'blowup': 'blowup.mp4', 'blue': 'blue.mp4', 'bolivia': 'bolivia.mp4', 'boilingmad': 'boilingmad.mp4', 'board': 'board.mp4', 'book': 'book.mp4', 'bored': 'bored.mp4', 'bone': 'bone.mp4', 'border': 'border.mp4', 'boat': 'boat.mp4', 'borrow': 'borrow.mp4', 'boston': 'boston.mp4', 'borderline': 'borderline.mp4', 'bother': 'bother.mp4', 'bottle': 'bottle.mp4', 'both': 'both.mp4', 'bottom': 'bottom.mp4', 'boundary': 'boundary.mp4', 'bowling': 'bowling.mp4', 'box': 'box.mp4', 'bowl': 'bowl.mp4', 'bowtie': 'bowtie.mp4', 'bowandarrow': 'bowandarrow.mp4', 'boxear': 'boxear.mp4', 'bracelet': 'bracelet.mp4', 'boyfriend': 'boyfriend.mp4', 'brag': 'brag.mp4', 'boy': 'boy.mp4', 'bra': 'bra.mp4', 'braille': 'braille.mp4', 'brainstorm': 'brainstorm.mp4', 'brave': 'brave.mp4', 'brazil': 'brazil.mp4', 'break': 'break.mp4', 'breaktime': 'breaktime.mp4', 'breakdown': 'breakdown.mp4', 'breathe': 'breathe.mp4', 'bridesmaid': 'bridesmaid.mp4', 'breakfast': 'breakfast.mp4', 'bridge': 'bridge.mp4', 'brick': 'brick.mp4', 'broccoli': 'broccoli.mp4', 'brother': 'brother.mp4', 'bring': 'bring.mp4', 'brown': 'brown.mp4', 'brush': 'brush.mp4', 'bubbles': 'bubbles.mp4', 'buffandblue': 'buffandblue.mp4', 'bug': 'bug.mp4', 'buoy': 'buoy.mp4', 'bulgaria': 'bulgaria.mp4', 'bum': 'bum.mp4', 'burpbaby': 'burpbaby.mp4', 'bullshit': 'bullshit.mp4', 'business': 'business.mp4', 'busy': 'busy.mp4', 'bus': 'bus.mp4', 'busted': 'busted.mp4', 'but': 'but.mp4', 'button': 'button.mp4', 'burp': 'burp.mp4', 'butterfly': 'butterfly.mp4', 'butter': 'butter.mp4', 'calculator': 'calculator.mp4', 'byebye': 'byebye.mp4', 'buy': 'buy.mp4', 'cabinet': 'cabinet.mp4', 'cake': 'cake.mp4', 'california': 'california.mp4', 'cambodia': 'cambodia.mp4', 'calltty': 'calltty.mp4', 'call (1)': 'call (1).mp4', 'cafeteria': 'cafeteria.mp4', 'canada': 'canada.mp4', 'camera': 'camera.mp4', 'candy': 'candy.mp4', 'card': 'card.mp4', 'cannot': 'cannot.mp4', 'carbattery': 'carbattery.mp4', 'casual': 'casual.mp4', 'carry': 'carry.mp4', 'cartoon': 'cartoon.mp4', 'catch': 'catch.mp4', 'caterpillar': 'caterpillar.mp4', 'group (1)': 'group (1).mp4', 'cat': 'cat.mp4', 'catsup': 'catsup.mp4', 'catholic': 'catholic.mp4', 'cent': 'cent.mp4', 'caught': 'caught.mp4', 'central america': 'central america.mp4', 'center': 'center.mp4', 'centralamerica': 'centralamerica.mp4', 'chair': 'chair.mp4', 'certificate': 'certificate.mp4', 'chain': 'chain.mp4', 'chance': 'chance.mp4', 'character': 'character.mp4', 'ceiling': 'ceiling.mp4', 'change': 'change.mp4', 'characteristic': 'characteristic.mp4', 'cheat': 'cheat.mp4', 'charge': 'charge.mp4', 'check': 'check.mp4', 'cherish': 'cherish.mp4', 'chat': 'chat.mp4', 'cherry': 'cherry.mp4', 'christmas': 'christmas.mp4', 'china': 'china.mp4', 'class': 'class.mp4', 'chinese': 'chinese.mp4', 'climate': 'climate.mp4', 'clean': 'clean.mp4', 'closeup': 'closeup.mp4', 'client': 'client.mp4', 'closewindow': 'closewindow.mp4', 'closebook': 'closebook.mp4', 'closedcaption': 'closedcaption.mp4', 'cloud': 'cloud.mp4', 'closet': 'closet.mp4', 'clown': 'clown.mp4', 'closeeyes': 'closeeyes.mp4', 'clock': 'clock.mp4', 'coach': 'coach.mp4', 'coconut': 'coconut.mp4', 'coins': 'coins.mp4', 'cold': 'cold.mp4', 'coffee': 'coffee.mp4', 'colorado': 'colorado.mp4', 'color': 'color.mp4', 'collectiveothers': 'collectiveothers.mp4', 'college': 'college.mp4', 'come': 'come.mp4', 'compass': 'compass.mp4', 'comfortable': 'comfortable.mp4', 'computer': 'computer.mp4', 'truck': 'truck.mp4', 'truebiz': 'truebiz.mp4', 'try (1)': 'try (1).mp4', 'turkey': 'turkey.mp4', 'tuesday': 'tuesday.mp4', 'turnaround': 'turnaround.mp4', 'turn': 'turn.mp4', 'turtle': 'turtle.mp4', 'twentyeight': 'twentyeight.mp4', 'twentyfour': 'twentyfour.mp4', 'twentyfive': 'twentyfive.mp4', 'twentynine': 'twentynine.mp4', 'twelve': 'twelve.mp4', 'twentyseven': 'twentyseven.mp4', 'twentysix': 'twentysix.mp4', 'twentythree': 'twentythree.mp4', 'twins': 'twins.mp4', 'twirl': 'twirl.mp4', 'twentytwo': 'twentytwo.mp4', 'two': 'two.mp4', 'numberdaysago': 'numberdaysago.mp4', 'numberdays': 'numberdays.mp4', 'twohours': 'twohours.mp4', 'turnon': 'turnon.mp4', 'twoofthem': 'twoofthem.mp4', 'twohundred': 'twohundred.mp4', 'numberhours': 'numberhours.mp4', 'twothousandone': 'twothousandone.mp4', 'numberoclock': 'numberoclock.mp4', 'twoofus': 'twoofus.mp4', 'twothousandtwo': 'twothousandtwo.mp4', 'type': 'type.mp4', 'ugly': 'ugly.mp4', 'typing': 'typing.mp4', 'umbrella': 'umbrella.mp4', 'unaware': 'unaware.mp4', 'uncertain': 'uncertain.mp4', 'under': 'under.mp4', 'uncle': 'uncle.mp4', 'underpants': 'underpants.mp4', 'undergraduate': 'undergraduate.mp4', 'underwear': 'underwear.mp4', 'understand': 'understand.mp4', 'unique': 'unique.mp4', 'unionstation': 'unionstation.mp4', 'until': 'until.mp4', 'up': 'up.mp4', 'university': 'university.mp4', 'unkind': 'unkind.mp4', 'upset': 'upset.mp4', 'upto': 'upto.mp4', 'vacation': 'vacation.mp4', 'us': 'us.mp4', 'usedto': 'usedto.mp4', 'validate': 'validate.mp4', 'use': 'use.mp4', 'twoyearsago': 'twoyearsago.mp4', 'value': 'value.mp4', 'vanish': 'vanish.mp4', 'vampire': 'vampire.mp4', 'veggie': 'veggie.mp4', 'vamoose': 'vamoose.mp4', 'very': 'very.mp4', 'vegetable': 'vegetable.mp4', 'vibrate': 'vibrate.mp4', 'video': 'video.mp4', 'vest': 'vest.mp4', 'videogame': 'videogame.mp4', 'videorecorder': 'videorecorder.mp4', 'visitor': 'visitor.mp4', 'violin': 'violin.mp4', 'vision': 'vision.mp4', 'visit': 'visit.mp4', 'vlog': 'vlog.mp4', 'vocabulary': 'vocabulary.mp4', 'visualize': 'visualize.mp4', 'voice': 'voice.mp4', 'volleyballsetvb': 'volleyballsetvb.mp4', 'volleyballset': 'volleyballset.mp4', 'volunteer': 'volunteer.mp4', 'wait': 'wait.mp4', 'walk': 'walk.mp4', 'wall': 'wall.mp4', 'waitfreeze': 'waitfreeze.mp4', 'wallet': 'wallet.mp4', 'want': 'want.mp4', 'warn': 'warn.mp4', 'warm': 'warm.mp4', 'war': 'war.mp4', 'washington': 'washington.mp4', 'washface': 'washface.mp4', 'watch': 'watch.mp4', 'waste': 'waste.mp4', 'washmachine': 'washmachine.mp4', 'water': 'water.mp4', 'wash': 'wash.mp4', 'wear': 'wear.mp4', 'watchtv': 'watchtv.mp4', 'way': 'way.mp4', 'waterdrop': 'waterdrop.mp4', 'week': 'week.mp4', 'wedding': 'wedding.mp4', 'wednesday': 'wednesday.mp4', 'weird': 'weird.mp4', 'west': 'west.mp4', 'welcome': 'welcome.mp4', 'weekend': 'weekend.mp4', 'we': 'we.mp4', 'wet': 'wet.mp4', 'whatdo': 'whatdo.mp4', 'whale': 'whale.mp4', 'volleyball': 'volleyball.mp4', 'what': 'what.mp4', 'where': 'where.mp4', 'whatpu': 'whatpu.mp4', 'whatfor': 'whatfor.mp4', 'when': 'when.mp4', 'which': 'which.mp4', 'whiteperson': 'whiteperson.mp4', 'whatever': 'whatever.mp4', 'while': 'while.mp4', 'who': 'who.mp4', 'whole': 'whole.mp4', 'white': 'white.mp4', 'whynot': 'whynot.mp4', 'why': 'why.mp4', 'wide': 'wide.mp4', 'wife': 'wife.mp4', 'willgo': 'willgo.mp4', 'willteach': 'willteach.mp4', 'willing': 'willing.mp4', 'wind': 'wind.mp4', 'win': 'win.mp4', 'window': 'window.mp4', 'wise': 'wise.mp4', 'wipe': 'wipe.mp4', 'wissinoming': 'wissinoming.mp4', 'woman': 'woman.mp4', 'witch': 'witch.mp4', 'wolf': 'wolf.mp4', 'worker': 'worker.mp4', 'word': 'word.mp4', 'wood': 'wood.mp4', 'without': 'without.mp4', 'wonderful': 'wonderful.mp4', 'wonder': 'wonder.mp4', 'workshop': 'workshop.mp4', 'worse': 'worse.mp4', 'work': 'work.mp4', 'worry': 'worry.mp4', 'worm': 'worm.mp4', 'worthless': 'worthless.mp4', 'wornout': 'wornout.mp4', 'wrestle': 'wrestle.mp4', 'wristwatch': 'wristwatch.mp4', 'write': 'write.mp4', 'wrong': 'wrong.mp4', 'yes': 'yes.mp4', 'yesterday': 'yesterday.mp4', 'yellow': 'yellow.mp4', 'zebra': 'zebra.mp4', 'yoyo': 'yoyo.mp4', 'imeanit': 'imeanit.mp4', 'zoomoff': 'zoomoff.mp4', 'zero': 'zero.mp4', 'effort': 'effort.mp4', 'flounder': 'flounder.mp4', 'eww': 'eww.mp4', 'nono': 'nono.mp4', 'nope': 'nope.mp4', 'ohmy': 'ohmy.mp4', 'ow': 'ow.mp4', 'nah': 'nah.mp4', 'oops': 'oops.mp4', 'puff': 'puff.mp4', 'pout': 'pout.mp4', 'rubhands': 'rubhands.mp4', 'notme': 'notme.mp4', 'pucker': 'pucker.mp4', 'raspberry': 'raspberry.mp4', 'surprised': 'surprised.mp4', 'touchheart': 'touchheart.mp4', 'upset_2': 'upset_2.mp4', 'whatup': 'whatup.mp4', 'triple': 'triple.mp4', 'thumbsup': 'thumbsup.mp4', 'trouble': 'trouble.mp4', 'claps': 'claps.mp4', 'trite': 'trite.mp4', 'triangle': 'triangle.mp4', 'queen': 'queen.mp4', 'quarter': 'quarter.mp4', 'quiet': 'quiet.mp4', 'quick': 'quick.mp4', 'rabbitears': 'rabbitears.mp4', 'raccoon': 'raccoon.mp4', 'quit': 'quit.mp4', 'rabbit': 'rabbit.mp4', 'rain': 'rain.mp4', 'rake': 'rake.mp4', 'raisins': 'raisins.mp4', 'radio': 'radio.mp4', 'razory': 'razory.mp4', 'razor': 'razor.mp4', 'rainbow': 'rainbow.mp4', 'react': 'react.mp4', 'rat': 'rat.mp4', 'real': 'real.mp4', 'read': 'read.mp4', 'recent': 'recent.mp4', 'reason': 'reason.mp4', 'record': 'record.mp4', 'reallyinto': 'reallyinto.mp4', 'recite': 'recite.mp4', 'refuse': 'refuse.mp4', 'refrigerator': 'refrigerator.mp4', 'recharge': 'recharge.mp4', 'register': 'register.mp4', 'reject': 'reject.mp4', 'regular': 'regular.mp4', 'red': 'red.mp4', 'relationship': 'relationship.mp4', 'relief': 'relief.mp4', 'relax': 'relax.mp4', 'religion': 'religion.mp4', 'remember': 'remember.mp4', 'relativethat': 'relativethat.mp4', 'remove': 'remove.mp4', 'remind': 'remind.mp4', 'remotecontrol': 'remotecontrol.mp4', 'renovate': 'renovate.mp4', 'repair': 'repair.mp4', 'rent': 'rent.mp4', 'replace': 'replace.mp4', 'research': 'research.mp4', 'demand': 'demand.mp4', 'resign': 'resign.mp4', 'report': 'report.mp4', 'resist': 'resist.mp4', 'request': 'request.mp4', 'responsibility': 'responsibility.mp4', 'restless': 'restless.mp4', 'respect': 'respect.mp4', 'retire': 'retire.mp4', 'result': 'result.mp4', 'restaurant': 'restaurant.mp4', 'retrieve': 'retrieve.mp4', 'rest': 'rest.mp4', 'reward': 'reward.mp4', 'revenge': 'revenge.mp4', 'ride': 'ride.mp4', 'rich': 'rich.mp4', 'ridiculous': 'ridiculous.mp4', 'ridein': 'ridein.mp4', 'righthand': 'righthand.mp4', 'river': 'river.mp4', 'rock': 'rock.mp4', 'rollupsleeves': 'rollupsleeves.mp4', 'thief': 'thief.mp4', 'rip': 'rip.mp4', 'rocket': 'rocket.mp4', 'role': 'role.mp4', 'rollerblade': 'rollerblade.mp4', 'room': 'room.mp4', 'roommate': 'roommate.mp4', 'roof': 'roof.mp4', 'rollerskating': 'rollerskating.mp4', 'rough': 'rough.mp4', 'rub': 'rub.mp4', 'runnynose': 'runnynose.mp4', 'rope': 'rope.mp4', 'ruin': 'ruin.mp4', 'runarms': 'runarms.mp4', 'safe': 'safe.mp4', 'same': 'same.mp4', 'salad': 'salad.mp4', 'salt': 'salt.mp4', 'sameas': 'sameas.mp4', 'run': 'run.mp4', 'sail': 'sail.mp4', 'santaclaus': 'santaclaus.mp4', 'sandwich': 'sandwich.mp4', 'satisfy': 'satisfy.mp4', 'saturday': 'saturday.mp4', 'save': 'save.mp4', 'say': 'say.mp4', 'saw': 'saw.mp4', 'santa': 'santa.mp4', 'saynoto': 'saynoto.mp4', 'scared': 'scared.mp4', 'school': 'school.mp4', 'scant': 'scant.mp4', 'scissors': 'scissors.mp4', 'script': 'script.mp4', 'scissorscut': 'scissorscut.mp4', 'score': 'score.mp4', 'scratch': 'scratch.mp4', 'scout': 'scout.mp4', 'secret': 'secret.mp4', 'lolookfor': 'lolookfor.mp4', 'second': 'second.mp4', 'secretary': 'secretary.mp4', 'seal': 'seal.mp4', 'see': 'see.mp4', 'seesee': 'seesee.mp4', 'select': 'select.mp4', 'seem': 'seem.mp4', 'seezero': 'seezero.mp4', 'send': 'send.mp4', 'senate': 'senate.mp4', 'seize': 'seize.mp4', 'sensitive': 'sensitive.mp4', 'sell': 'sell.mp4', 'seniorcitizen': 'seniorcitizen.mp4', 'sentence': 'sentence.mp4', 'senioryear': 'senioryear.mp4'}\n"
          ],
          "name": "stdout"
        }
      ]
    },
    {
      "cell_type": "code",
      "metadata": {
        "colab": {
          "background_save": true
        },
        "id": "d_9gsPe6B7_q"
      },
      "source": [
        "# Extracting words from the converted text file with the help of whitespace\r\n",
        "array = result.split(\" \")"
      ],
      "execution_count": null,
      "outputs": []
    },
    {
      "cell_type": "markdown",
      "metadata": {
        "id": "646adsoeyqC8"
      },
      "source": [
        "Merging all small ASL clips to a single clip"
      ]
    },
    {
      "cell_type": "code",
      "metadata": {
        "colab": {
          "background_save": true,
          "base_uri": "https://localhost:8080/"
        },
        "id": "MwXO8uVa7pOb",
        "outputId": "73e78725-c999-4063-bebd-95b69dd2c9c1"
      },
      "source": [
        "from moviepy.editor import *\n",
        "\n",
        "new_list = []\n",
        "count_of_videos_played = 0\n",
        "clips = []\n",
        "\n",
        "# write the merged videos into a video file\n",
        "def output_video(video):\n",
        "    video.write_videofile('ConvertedToSign.mp4')\n",
        "\n",
        "# merge all the video files in the list to a single video     \n",
        "def combine_clips(new_list):\n",
        "    video = concatenate_videoclips(new_list, method='chain')\n",
        "    output_video(video)\n",
        "\n",
        "# appending the videofile associated with the value into a list\n",
        "def open_clips(clips):\n",
        "       for clip in clips:\n",
        "           new_list.append(VideoFileClip(clip))\n",
        "       combine_clips(new_list)\n",
        "\n",
        "#\tAppending each of the value from the dictionary to clips\n",
        "def clips_list():\n",
        "    clips = []\n",
        "    if (Videos[key]):\n",
        "      clips.append(Videos[key])\n",
        "    open_clips(clips)\n",
        "    \n",
        "# Cheking if the key in the dictionary is same as the word in the text file\n",
        "for i in range(len(array)):\n",
        "  for key in Videos:                     \n",
        "     if array[i] == key:\n",
        "        if key in Videos:                       # check if the particular key has a corresponding key.mp4 in the dct\n",
        "            count_of_videos_played = count_of_videos_played +1   #counting the number of mp4's accessed to calulate the accuracy \n",
        "            print(key)\n",
        "            video = clips_list()"
      ],
      "execution_count": null,
      "outputs": [
        {
          "output_type": "stream",
          "text": [
            "are\n",
            "[MoviePy] >>>> Building video ConvertedToSign.mp4\n",
            "[MoviePy] Writing audio in ConvertedToSignTEMP_MPY_wvf_snd.mp3\n"
          ],
          "name": "stdout"
        },
        {
          "output_type": "stream",
          "text": [
            "100%|██████████| 70/70 [00:00<00:00, 1193.79it/s]"
          ],
          "name": "stderr"
        },
        {
          "output_type": "stream",
          "text": [
            "[MoviePy] Done.\n",
            "[MoviePy] Writing video ConvertedToSign.mp4\n"
          ],
          "name": "stdout"
        },
        {
          "output_type": "stream",
          "text": [
            "\n",
            "100%|██████████| 76/76 [00:00<00:00, 131.41it/s]\n"
          ],
          "name": "stderr"
        },
        {
          "output_type": "stream",
          "text": [
            "[MoviePy] Done.\n",
            "[MoviePy] >>>> Video ready: ConvertedToSign.mp4 \n",
            "\n",
            "who\n",
            "[MoviePy] >>>> Building video ConvertedToSign.mp4\n",
            "[MoviePy] Writing audio in ConvertedToSignTEMP_MPY_wvf_snd.mp3\n"
          ],
          "name": "stdout"
        },
        {
          "output_type": "stream",
          "text": [
            "100%|██████████| 70/70 [00:00<00:00, 742.58it/s]"
          ],
          "name": "stderr"
        },
        {
          "output_type": "stream",
          "text": [
            "[MoviePy] Done.\n",
            "[MoviePy] Writing video ConvertedToSign.mp4\n"
          ],
          "name": "stdout"
        },
        {
          "output_type": "stream",
          "text": [
            "\n",
            "100%|██████████| 134/134 [00:01<00:00, 96.77it/s]\n"
          ],
          "name": "stderr"
        },
        {
          "output_type": "stream",
          "text": [
            "[MoviePy] Done.\n",
            "[MoviePy] >>>> Video ready: ConvertedToSign.mp4 \n",
            "\n",
            "many\n",
            "[MoviePy] >>>> Building video ConvertedToSign.mp4\n",
            "[MoviePy] Writing audio in ConvertedToSignTEMP_MPY_wvf_snd.mp3\n"
          ],
          "name": "stdout"
        },
        {
          "output_type": "stream",
          "text": [
            "100%|██████████| 180/180 [00:00<00:00, 1099.99it/s]"
          ],
          "name": "stderr"
        },
        {
          "output_type": "stream",
          "text": [
            "[MoviePy] Done.\n",
            "[MoviePy] Writing video ConvertedToSign.mp4\n"
          ],
          "name": "stdout"
        },
        {
          "output_type": "stream",
          "text": [
            "\n",
            "100%|██████████| 196/196 [00:02<00:00, 82.87it/s]\n"
          ],
          "name": "stderr"
        },
        {
          "output_type": "stream",
          "text": [
            "[MoviePy] Done.\n",
            "[MoviePy] >>>> Video ready: ConvertedToSign.mp4 \n",
            "\n",
            "new\n",
            "[MoviePy] >>>> Building video ConvertedToSign.mp4\n",
            "[MoviePy] Writing audio in ConvertedToSignTEMP_MPY_wvf_snd.mp3\n"
          ],
          "name": "stdout"
        },
        {
          "output_type": "stream",
          "text": [
            "100%|██████████| 248/248 [00:00<00:00, 1151.70it/s]"
          ],
          "name": "stderr"
        },
        {
          "output_type": "stream",
          "text": [
            "[MoviePy] Done.\n",
            "[MoviePy] Writing video ConvertedToSign.mp4\n"
          ],
          "name": "stdout"
        },
        {
          "output_type": "stream",
          "text": [
            "\n",
            "100%|██████████| 336/336 [00:04<00:00, 83.05it/s]\n"
          ],
          "name": "stderr"
        },
        {
          "output_type": "stream",
          "text": [
            "[MoviePy] Done.\n",
            "[MoviePy] >>>> Video ready: ConvertedToSign.mp4 \n",
            "\n",
            "on\n",
            "[MoviePy] >>>> Building video ConvertedToSign.mp4\n",
            "[MoviePy] Writing audio in ConvertedToSignTEMP_MPY_wvf_snd.mp3\n"
          ],
          "name": "stdout"
        },
        {
          "output_type": "stream",
          "text": [
            "100%|██████████| 309/309 [00:00<00:00, 1032.32it/s]\n"
          ],
          "name": "stderr"
        },
        {
          "output_type": "stream",
          "text": [
            "[MoviePy] Done.\n",
            "[MoviePy] Writing video ConvertedToSign.mp4\n"
          ],
          "name": "stdout"
        },
        {
          "output_type": "stream",
          "text": [
            "100%|██████████| 420/420 [00:05<00:00, 82.32it/s]\n"
          ],
          "name": "stderr"
        },
        {
          "output_type": "stream",
          "text": [
            "[MoviePy] Done.\n",
            "[MoviePy] >>>> Video ready: ConvertedToSign.mp4 \n",
            "\n",
            "eight\n",
            "[MoviePy] >>>> Building video ConvertedToSign.mp4\n",
            "[MoviePy] Writing audio in ConvertedToSignTEMP_MPY_wvf_snd.mp3\n"
          ],
          "name": "stdout"
        },
        {
          "output_type": "stream",
          "text": [
            "100%|██████████| 366/366 [00:00<00:00, 897.42it/s]\n"
          ],
          "name": "stderr"
        },
        {
          "output_type": "stream",
          "text": [
            "[MoviePy] Done.\n",
            "[MoviePy] Writing video ConvertedToSign.mp4\n"
          ],
          "name": "stdout"
        },
        {
          "output_type": "stream",
          "text": [
            "100%|██████████| 498/498 [00:06<00:00, 79.78it/s]\n"
          ],
          "name": "stderr"
        },
        {
          "output_type": "stream",
          "text": [
            "[MoviePy] Done.\n",
            "[MoviePy] >>>> Video ready: ConvertedToSign.mp4 \n",
            "\n",
            "on\n",
            "[MoviePy] >>>> Building video ConvertedToSign.mp4\n",
            "[MoviePy] Writing audio in ConvertedToSignTEMP_MPY_wvf_snd.mp3\n"
          ],
          "name": "stdout"
        },
        {
          "output_type": "stream",
          "text": [
            "100%|██████████| 428/428 [00:00<00:00, 936.01it/s]"
          ],
          "name": "stderr"
        },
        {
          "output_type": "stream",
          "text": [
            "[MoviePy] Done.\n",
            "[MoviePy] Writing video ConvertedToSign.mp4\n"
          ],
          "name": "stdout"
        },
        {
          "output_type": "stream",
          "text": [
            "\n",
            "100%|██████████| 582/582 [00:07<00:00, 78.06it/s]\n"
          ],
          "name": "stderr"
        },
        {
          "output_type": "stream",
          "text": [
            "[MoviePy] Done.\n",
            "[MoviePy] >>>> Video ready: ConvertedToSign.mp4 \n",
            "\n",
            "that\n",
            "[MoviePy] >>>> Building video ConvertedToSign.mp4\n",
            "[MoviePy] Writing audio in ConvertedToSignTEMP_MPY_wvf_snd.mp3\n"
          ],
          "name": "stdout"
        },
        {
          "output_type": "stream",
          "text": [
            "100%|██████████| 428/428 [00:00<00:00, 873.61it/s]"
          ],
          "name": "stderr"
        },
        {
          "output_type": "stream",
          "text": [
            "[MoviePy] Done.\n",
            "[MoviePy] Writing video ConvertedToSign.mp4\n"
          ],
          "name": "stdout"
        },
        {
          "output_type": "stream",
          "text": [
            "\n",
            "100%|██████████| 662/662 [00:08<00:00, 79.10it/s]\n"
          ],
          "name": "stderr"
        },
        {
          "output_type": "stream",
          "text": [
            "[MoviePy] Done.\n",
            "[MoviePy] >>>> Video ready: ConvertedToSign.mp4 \n",
            "\n",
            "create\n",
            "[MoviePy] >>>> Building video ConvertedToSign.mp4\n",
            "[MoviePy] Writing audio in ConvertedToSignTEMP_MPY_wvf_snd.mp3\n"
          ],
          "name": "stdout"
        },
        {
          "output_type": "stream",
          "text": [
            "100%|██████████| 428/428 [00:00<00:00, 886.75it/s]"
          ],
          "name": "stderr"
        },
        {
          "output_type": "stream",
          "text": [
            "[MoviePy] Done.\n",
            "[MoviePy] Writing video ConvertedToSign.mp4\n"
          ],
          "name": "stdout"
        },
        {
          "output_type": "stream",
          "text": [
            "\n",
            "100%|██████████| 764/764 [00:09<00:00, 77.72it/s]\n"
          ],
          "name": "stderr"
        },
        {
          "output_type": "stream",
          "text": [
            "[MoviePy] Done.\n",
            "[MoviePy] >>>> Video ready: ConvertedToSign.mp4 \n",
            "\n",
            "beer\n",
            "[MoviePy] >>>> Building video ConvertedToSign.mp4\n",
            "[MoviePy] Writing audio in ConvertedToSignTEMP_MPY_wvf_snd.mp3\n"
          ],
          "name": "stdout"
        },
        {
          "output_type": "stream",
          "text": [
            "100%|██████████| 428/428 [00:00<00:00, 889.18it/s]"
          ],
          "name": "stderr"
        },
        {
          "output_type": "stream",
          "text": [
            "[MoviePy] Done.\n",
            "[MoviePy] Writing video ConvertedToSign.mp4\n"
          ],
          "name": "stdout"
        },
        {
          "output_type": "stream",
          "text": [
            "\n",
            "100%|██████████| 817/817 [00:10<00:00, 76.07it/s]\n"
          ],
          "name": "stderr"
        },
        {
          "output_type": "stream",
          "text": [
            "[MoviePy] Done.\n",
            "[MoviePy] >>>> Video ready: ConvertedToSign.mp4 \n",
            "\n",
            "forget\n",
            "[MoviePy] >>>> Building video ConvertedToSign.mp4\n",
            "[MoviePy] Writing audio in ConvertedToSignTEMP_MPY_wvf_snd.mp3\n"
          ],
          "name": "stdout"
        },
        {
          "output_type": "stream",
          "text": [
            "100%|██████████| 641/641 [00:00<00:00, 1032.73it/s]"
          ],
          "name": "stderr"
        },
        {
          "output_type": "stream",
          "text": [
            "[MoviePy] Done.\n",
            "[MoviePy] Writing video ConvertedToSign.mp4\n"
          ],
          "name": "stdout"
        },
        {
          "output_type": "stream",
          "text": [
            "\n",
            "100%|██████████| 872/872 [00:11<00:00, 76.17it/s]\n"
          ],
          "name": "stderr"
        },
        {
          "output_type": "stream",
          "text": [
            "[MoviePy] Done.\n",
            "[MoviePy] >>>> Video ready: ConvertedToSign.mp4 \n",
            "\n",
            "long\n",
            "[MoviePy] >>>> Building video ConvertedToSign.mp4\n",
            "[MoviePy] Writing audio in ConvertedToSignTEMP_MPY_wvf_snd.mp3\n"
          ],
          "name": "stdout"
        },
        {
          "output_type": "stream",
          "text": [
            "100%|██████████| 700/700 [00:00<00:00, 996.71it/s]"
          ],
          "name": "stderr"
        },
        {
          "output_type": "stream",
          "text": [
            "[MoviePy] Done.\n",
            "[MoviePy] Writing video ConvertedToSign.mp4\n"
          ],
          "name": "stdout"
        },
        {
          "output_type": "stream",
          "text": [
            "\n",
            "100%|██████████| 952/952 [00:12<00:00, 75.55it/s]\n"
          ],
          "name": "stderr"
        },
        {
          "output_type": "stream",
          "text": [
            "[MoviePy] Done.\n",
            "[MoviePy] >>>> Video ready: ConvertedToSign.mp4 \n",
            "\n",
            "on\n",
            "[MoviePy] >>>> Building video ConvertedToSign.mp4\n",
            "[MoviePy] Writing audio in ConvertedToSignTEMP_MPY_wvf_snd.mp3\n"
          ],
          "name": "stdout"
        },
        {
          "output_type": "stream",
          "text": [
            "100%|██████████| 762/762 [00:00<00:00, 976.41it/s]"
          ],
          "name": "stderr"
        },
        {
          "output_type": "stream",
          "text": [
            "[MoviePy] Done.\n",
            "[MoviePy] Writing video ConvertedToSign.mp4\n"
          ],
          "name": "stdout"
        },
        {
          "output_type": "stream",
          "text": [
            "\n",
            "100%|██████████| 1036/1036 [00:13<00:00, 74.53it/s]\n"
          ],
          "name": "stderr"
        },
        {
          "output_type": "stream",
          "text": [
            "[MoviePy] Done.\n",
            "[MoviePy] >>>> Video ready: ConvertedToSign.mp4 \n",
            "\n",
            "type\n",
            "[MoviePy] >>>> Building video ConvertedToSign.mp4\n",
            "[MoviePy] Writing audio in ConvertedToSignTEMP_MPY_wvf_snd.mp3\n"
          ],
          "name": "stdout"
        },
        {
          "output_type": "stream",
          "text": [
            "100%|██████████| 826/826 [00:00<00:00, 898.37it/s]"
          ],
          "name": "stderr"
        },
        {
          "output_type": "stream",
          "text": [
            "[MoviePy] Done.\n",
            "[MoviePy] Writing video ConvertedToSign.mp4\n"
          ],
          "name": "stdout"
        },
        {
          "output_type": "stream",
          "text": [
            "\n",
            "100%|██████████| 1123/1123 [00:14<00:00, 75.01it/s]\n"
          ],
          "name": "stderr"
        },
        {
          "output_type": "stream",
          "text": [
            "[MoviePy] Done.\n",
            "[MoviePy] >>>> Video ready: ConvertedToSign.mp4 \n",
            "\n",
            "alcohol\n",
            "[MoviePy] >>>> Building video ConvertedToSign.mp4\n",
            "[MoviePy] Writing audio in ConvertedToSignTEMP_MPY_wvf_snd.mp3\n"
          ],
          "name": "stdout"
        },
        {
          "output_type": "stream",
          "text": [
            "100%|██████████| 881/881 [00:00<00:00, 941.75it/s]"
          ],
          "name": "stderr"
        },
        {
          "output_type": "stream",
          "text": [
            "[MoviePy] Done.\n",
            "[MoviePy] Writing video ConvertedToSign.mp4\n"
          ],
          "name": "stdout"
        },
        {
          "output_type": "stream",
          "text": [
            "\n",
            "100%|██████████| 2395/2395 [00:25<00:00, 95.14it/s]\n"
          ],
          "name": "stderr"
        },
        {
          "output_type": "stream",
          "text": [
            "[MoviePy] Done.\n",
            "[MoviePy] >>>> Video ready: ConvertedToSign.mp4 \n",
            "\n",
            "this\n",
            "[MoviePy] >>>> Building video ConvertedToSign.mp4\n",
            "[MoviePy] Writing audio in ConvertedToSignTEMP_MPY_wvf_snd.mp3\n"
          ],
          "name": "stdout"
        },
        {
          "output_type": "stream",
          "text": [
            "100%|██████████| 881/881 [00:00<00:00, 908.03it/s]\n"
          ],
          "name": "stderr"
        },
        {
          "output_type": "stream",
          "text": [
            "[MoviePy] Done.\n",
            "[MoviePy] Writing video ConvertedToSign.mp4\n"
          ],
          "name": "stdout"
        },
        {
          "output_type": "stream",
          "text": [
            "100%|██████████| 2583/2583 [00:27<00:00, 93.89it/s]\n"
          ],
          "name": "stderr"
        },
        {
          "output_type": "stream",
          "text": [
            "[MoviePy] Done.\n",
            "[MoviePy] >>>> Video ready: ConvertedToSign.mp4 \n",
            "\n",
            "when\n",
            "[MoviePy] >>>> Building video ConvertedToSign.mp4\n",
            "[MoviePy] Writing audio in ConvertedToSignTEMP_MPY_wvf_snd.mp3\n"
          ],
          "name": "stdout"
        },
        {
          "output_type": "stream",
          "text": [
            "100%|██████████| 881/881 [00:00<00:00, 917.79it/s]"
          ],
          "name": "stderr"
        },
        {
          "output_type": "stream",
          "text": [
            "[MoviePy] Done.\n",
            "[MoviePy] Writing video ConvertedToSign.mp4\n"
          ],
          "name": "stdout"
        },
        {
          "output_type": "stream",
          "text": [
            "\n",
            "100%|██████████| 2723/2723 [00:28<00:00, 95.03it/s]\n"
          ],
          "name": "stderr"
        },
        {
          "output_type": "stream",
          "text": [
            "[MoviePy] Done.\n",
            "[MoviePy] >>>> Video ready: ConvertedToSign.mp4 \n",
            "\n",
            "create\n",
            "[MoviePy] >>>> Building video ConvertedToSign.mp4\n",
            "[MoviePy] Writing audio in ConvertedToSignTEMP_MPY_wvf_snd.mp3\n"
          ],
          "name": "stdout"
        },
        {
          "output_type": "stream",
          "text": [
            "100%|██████████| 881/881 [00:00<00:00, 898.08it/s]"
          ],
          "name": "stderr"
        },
        {
          "output_type": "stream",
          "text": [
            "[MoviePy] Done.\n",
            "[MoviePy] Writing video ConvertedToSign.mp4\n"
          ],
          "name": "stdout"
        },
        {
          "output_type": "stream",
          "text": [
            "\n",
            "100%|██████████| 2929/2929 [00:31<00:00, 94.01it/s]\n"
          ],
          "name": "stderr"
        },
        {
          "output_type": "stream",
          "text": [
            "[MoviePy] Done.\n",
            "[MoviePy] >>>> Video ready: ConvertedToSign.mp4 \n",
            "\n",
            "from\n",
            "[MoviePy] >>>> Building video ConvertedToSign.mp4\n",
            "[MoviePy] Writing audio in ConvertedToSignTEMP_MPY_wvf_snd.mp3\n"
          ],
          "name": "stdout"
        },
        {
          "output_type": "stream",
          "text": [
            "100%|██████████| 881/881 [00:00<00:00, 898.50it/s]"
          ],
          "name": "stderr"
        },
        {
          "output_type": "stream",
          "text": [
            "[MoviePy] Done.\n",
            "[MoviePy] Writing video ConvertedToSign.mp4\n"
          ],
          "name": "stdout"
        },
        {
          "output_type": "stream",
          "text": [
            "\n",
            "100%|██████████| 3119/3119 [00:32<00:00, 94.98it/s] \n"
          ],
          "name": "stderr"
        },
        {
          "output_type": "stream",
          "text": [
            "[MoviePy] Done.\n",
            "[MoviePy] >>>> Video ready: ConvertedToSign.mp4 \n",
            "\n",
            "seven\n",
            "[MoviePy] >>>> Building video ConvertedToSign.mp4\n",
            "[MoviePy] Writing audio in ConvertedToSignTEMP_MPY_wvf_snd.mp3\n"
          ],
          "name": "stdout"
        },
        {
          "output_type": "stream",
          "text": [
            "100%|██████████| 1204/1204 [00:01<00:00, 1024.45it/s]"
          ],
          "name": "stderr"
        },
        {
          "output_type": "stream",
          "text": [
            "[MoviePy] Done.\n",
            "[MoviePy] Writing video ConvertedToSign.mp4\n"
          ],
          "name": "stdout"
        },
        {
          "output_type": "stream",
          "text": [
            "\n",
            "100%|██████████| 3276/3276 [00:33<00:00, 96.41it/s] \n"
          ],
          "name": "stderr"
        },
        {
          "output_type": "stream",
          "text": [
            "[MoviePy] Done.\n",
            "[MoviePy] >>>> Video ready: ConvertedToSign.mp4 \n",
            "\n",
            "china\n",
            "[MoviePy] >>>> Building video ConvertedToSign.mp4\n",
            "[MoviePy] Writing audio in ConvertedToSignTEMP_MPY_wvf_snd.mp3\n"
          ],
          "name": "stdout"
        },
        {
          "output_type": "stream",
          "text": [
            "100%|██████████| 1204/1204 [00:01<00:00, 1007.62it/s]"
          ],
          "name": "stderr"
        },
        {
          "output_type": "stream",
          "text": [
            "[MoviePy] Done.\n",
            "[MoviePy] Writing video ConvertedToSign.mp4\n"
          ],
          "name": "stdout"
        },
        {
          "output_type": "stream",
          "text": [
            "\n",
            "100%|██████████| 3474/3474 [00:37<00:00, 93.07it/s]\n"
          ],
          "name": "stderr"
        },
        {
          "output_type": "stream",
          "text": [
            "[MoviePy] Done.\n",
            "[MoviePy] >>>> Video ready: ConvertedToSign.mp4 \n",
            "\n",
            "where\n",
            "[MoviePy] >>>> Building video ConvertedToSign.mp4\n",
            "[MoviePy] Writing audio in ConvertedToSignTEMP_MPY_wvf_snd.mp3\n"
          ],
          "name": "stdout"
        },
        {
          "output_type": "stream",
          "text": [
            "100%|██████████| 1204/1204 [00:01<00:00, 1013.13it/s]"
          ],
          "name": "stderr"
        },
        {
          "output_type": "stream",
          "text": [
            "[MoviePy] Done.\n",
            "[MoviePy] Writing video ConvertedToSign.mp4\n"
          ],
          "name": "stdout"
        },
        {
          "output_type": "stream",
          "text": [
            "\n",
            "100%|██████████| 3609/3609 [00:38<00:00, 93.85it/s]\n"
          ],
          "name": "stderr"
        },
        {
          "output_type": "stream",
          "text": [
            "[MoviePy] Done.\n",
            "[MoviePy] >>>> Video ready: ConvertedToSign.mp4 \n",
            "\n",
            "that\n",
            "[MoviePy] >>>> Building video ConvertedToSign.mp4\n",
            "[MoviePy] Writing audio in ConvertedToSignTEMP_MPY_wvf_snd.mp3\n"
          ],
          "name": "stdout"
        },
        {
          "output_type": "stream",
          "text": [
            "100%|██████████| 1204/1204 [00:01<00:00, 1007.38it/s]"
          ],
          "name": "stderr"
        },
        {
          "output_type": "stream",
          "text": [
            "[MoviePy] Done.\n",
            "[MoviePy] Writing video ConvertedToSign.mp4\n"
          ],
          "name": "stdout"
        },
        {
          "output_type": "stream",
          "text": [
            "\n",
            "100%|██████████| 3769/3769 [00:39<00:00, 95.71it/s] \n"
          ],
          "name": "stderr"
        },
        {
          "output_type": "stream",
          "text": [
            "[MoviePy] Done.\n",
            "[MoviePy] >>>> Video ready: ConvertedToSign.mp4 \n",
            "\n",
            "from\n",
            "[MoviePy] >>>> Building video ConvertedToSign.mp4\n",
            "[MoviePy] Writing audio in ConvertedToSignTEMP_MPY_wvf_snd.mp3\n"
          ],
          "name": "stdout"
        },
        {
          "output_type": "stream",
          "text": [
            "100%|██████████| 1204/1204 [00:01<00:00, 1037.79it/s]"
          ],
          "name": "stderr"
        },
        {
          "output_type": "stream",
          "text": [
            "[MoviePy] Done.\n",
            "[MoviePy] Writing video ConvertedToSign.mp4\n"
          ],
          "name": "stdout"
        },
        {
          "output_type": "stream",
          "text": [
            "\n",
            "100%|██████████| 3959/3959 [00:40<00:00, 97.95it/s] \n"
          ],
          "name": "stderr"
        },
        {
          "output_type": "stream",
          "text": [
            "[MoviePy] Done.\n",
            "[MoviePy] >>>> Video ready: ConvertedToSign.mp4 \n",
            "\n",
            "honey\n",
            "[MoviePy] >>>> Building video ConvertedToSign.mp4\n",
            "[MoviePy] Writing audio in ConvertedToSignTEMP_MPY_wvf_snd.mp3\n"
          ],
          "name": "stdout"
        },
        {
          "output_type": "stream",
          "text": [
            "100%|██████████| 1509/1509 [00:01<00:00, 1119.29it/s]"
          ],
          "name": "stderr"
        },
        {
          "output_type": "stream",
          "text": [
            "[MoviePy] Done.\n",
            "[MoviePy] Writing video ConvertedToSign.mp4\n"
          ],
          "name": "stdout"
        },
        {
          "output_type": "stream",
          "text": [
            "\n",
            "100%|██████████| 4106/4106 [00:41<00:00, 97.90it/s]\n"
          ],
          "name": "stderr"
        },
        {
          "output_type": "stream",
          "text": [
            "[MoviePy] Done.\n",
            "[MoviePy] >>>> Video ready: ConvertedToSign.mp4 \n",
            "\n",
            "nice\n",
            "[MoviePy] >>>> Building video ConvertedToSign.mp4\n",
            "[MoviePy] Writing audio in ConvertedToSignTEMP_MPY_wvf_snd.mp3\n"
          ],
          "name": "stdout"
        },
        {
          "output_type": "stream",
          "text": [
            "100%|██████████| 1578/1578 [00:01<00:00, 1070.36it/s]"
          ],
          "name": "stderr"
        },
        {
          "output_type": "stream",
          "text": [
            "[MoviePy] Done.\n",
            "[MoviePy] Writing video ConvertedToSign.mp4\n"
          ],
          "name": "stdout"
        },
        {
          "output_type": "stream",
          "text": [
            "\n",
            "100%|██████████| 4294/4294 [00:43<00:00, 97.92it/s] \n"
          ],
          "name": "stderr"
        },
        {
          "output_type": "stream",
          "text": [
            "[MoviePy] Done.\n",
            "[MoviePy] >>>> Video ready: ConvertedToSign.mp4 \n",
            "\n",
            "here\n",
            "[MoviePy] >>>> Building video ConvertedToSign.mp4\n",
            "[MoviePy] Writing audio in ConvertedToSignTEMP_MPY_wvf_snd.mp3\n"
          ],
          "name": "stdout"
        },
        {
          "output_type": "stream",
          "text": [
            "100%|██████████| 1634/1634 [00:01<00:00, 1038.91it/s]"
          ],
          "name": "stderr"
        },
        {
          "output_type": "stream",
          "text": [
            "[MoviePy] Done.\n",
            "[MoviePy] Writing video ConvertedToSign.mp4\n"
          ],
          "name": "stdout"
        },
        {
          "output_type": "stream",
          "text": [
            "\n",
            "100%|██████████| 4446/4446 [00:48<00:00, 92.17it/s]\n"
          ],
          "name": "stderr"
        },
        {
          "output_type": "stream",
          "text": [
            "[MoviePy] Done.\n",
            "[MoviePy] >>>> Video ready: ConvertedToSign.mp4 \n",
            "\n",
            "from\n",
            "[MoviePy] >>>> Building video ConvertedToSign.mp4\n",
            "[MoviePy] Writing audio in ConvertedToSignTEMP_MPY_wvf_snd.mp3\n"
          ],
          "name": "stdout"
        },
        {
          "output_type": "stream",
          "text": [
            "100%|██████████| 1634/1634 [00:01<00:00, 1010.19it/s]"
          ],
          "name": "stderr"
        },
        {
          "output_type": "stream",
          "text": [
            "[MoviePy] Done.\n",
            "[MoviePy] Writing video ConvertedToSign.mp4\n"
          ],
          "name": "stdout"
        },
        {
          "output_type": "stream",
          "text": [
            "\n",
            "100%|██████████| 4636/4636 [00:47<00:00, 97.79it/s]\n"
          ],
          "name": "stderr"
        },
        {
          "output_type": "stream",
          "text": [
            "[MoviePy] Done.\n",
            "[MoviePy] >>>> Video ready: ConvertedToSign.mp4 \n",
            "\n",
            "disappear\n",
            "[MoviePy] >>>> Building video ConvertedToSign.mp4\n",
            "[MoviePy] Writing audio in ConvertedToSignTEMP_MPY_wvf_snd.mp3\n"
          ],
          "name": "stdout"
        },
        {
          "output_type": "stream",
          "text": [
            "100%|██████████| 1752/1752 [00:01<00:00, 1023.05it/s]"
          ],
          "name": "stderr"
        },
        {
          "output_type": "stream",
          "text": [
            "[MoviePy] Done.\n",
            "[MoviePy] Writing video ConvertedToSign.mp4\n"
          ],
          "name": "stdout"
        },
        {
          "output_type": "stream",
          "text": [
            "\n",
            "100%|██████████| 4766/4766 [00:48<00:00, 98.29it/s] \n"
          ],
          "name": "stderr"
        },
        {
          "output_type": "stream",
          "text": [
            "[MoviePy] Done.\n",
            "[MoviePy] >>>> Video ready: ConvertedToSign.mp4 \n",
            "\n",
            "near\n",
            "[MoviePy] >>>> Building video ConvertedToSign.mp4\n",
            "[MoviePy] Writing audio in ConvertedToSignTEMP_MPY_wvf_snd.mp3\n"
          ],
          "name": "stdout"
        },
        {
          "output_type": "stream",
          "text": [
            "100%|██████████| 1817/1817 [00:01<00:00, 995.13it/s]"
          ],
          "name": "stderr"
        },
        {
          "output_type": "stream",
          "text": [
            "[MoviePy] Done.\n",
            "[MoviePy] Writing video ConvertedToSign.mp4\n"
          ],
          "name": "stdout"
        },
        {
          "output_type": "stream",
          "text": [
            "\n",
            "100%|██████████| 4944/4944 [00:50<00:00, 98.74it/s]\n"
          ],
          "name": "stderr"
        },
        {
          "output_type": "stream",
          "text": [
            "[MoviePy] Done.\n",
            "[MoviePy] >>>> Video ready: ConvertedToSign.mp4 \n",
            "\n",
            "daily\n",
            "[MoviePy] >>>> Building video ConvertedToSign.mp4\n",
            "[MoviePy] Writing audio in ConvertedToSignTEMP_MPY_wvf_snd.mp3\n"
          ],
          "name": "stdout"
        },
        {
          "output_type": "stream",
          "text": [
            "100%|██████████| 1817/1817 [00:01<00:00, 940.43it/s]\n"
          ],
          "name": "stderr"
        },
        {
          "output_type": "stream",
          "text": [
            "[MoviePy] Done.\n",
            "[MoviePy] Writing video ConvertedToSign.mp4\n"
          ],
          "name": "stdout"
        },
        {
          "output_type": "stream",
          "text": [
            "100%|██████████| 5139/5139 [00:52<00:00, 98.41it/s]\n"
          ],
          "name": "stderr"
        },
        {
          "output_type": "stream",
          "text": [
            "[MoviePy] Done.\n",
            "[MoviePy] >>>> Video ready: ConvertedToSign.mp4 \n",
            "\n",
            "but\n",
            "[MoviePy] >>>> Building video ConvertedToSign.mp4\n",
            "[MoviePy] Writing audio in ConvertedToSignTEMP_MPY_wvf_snd.mp3\n"
          ],
          "name": "stdout"
        },
        {
          "output_type": "stream",
          "text": [
            "100%|██████████| 1946/1946 [00:01<00:00, 986.83it/s]"
          ],
          "name": "stderr"
        },
        {
          "output_type": "stream",
          "text": [
            "[MoviePy] Done.\n",
            "[MoviePy] Writing video ConvertedToSign.mp4\n"
          ],
          "name": "stdout"
        },
        {
          "output_type": "stream",
          "text": [
            "\n",
            "100%|██████████| 5294/5294 [00:53<00:00, 99.08it/s]\n"
          ],
          "name": "stderr"
        },
        {
          "output_type": "stream",
          "text": [
            "[MoviePy] Done.\n",
            "[MoviePy] >>>> Video ready: ConvertedToSign.mp4 \n",
            "\n",
            "climate\n",
            "[MoviePy] >>>> Building video ConvertedToSign.mp4\n",
            "[MoviePy] Writing audio in ConvertedToSignTEMP_MPY_wvf_snd.mp3\n"
          ],
          "name": "stdout"
        },
        {
          "output_type": "stream",
          "text": [
            "100%|██████████| 2008/2008 [00:02<00:00, 948.01it/s]"
          ],
          "name": "stderr"
        },
        {
          "output_type": "stream",
          "text": [
            "[MoviePy] Done.\n",
            "[MoviePy] Writing video ConvertedToSign.mp4\n"
          ],
          "name": "stdout"
        },
        {
          "output_type": "stream",
          "text": [
            "\n",
            "100%|██████████| 5464/5464 [00:55<00:00, 98.85it/s] \n"
          ],
          "name": "stderr"
        },
        {
          "output_type": "stream",
          "text": [
            "[MoviePy] Done.\n",
            "[MoviePy] >>>> Video ready: ConvertedToSign.mp4 \n",
            "\n",
            "for\n",
            "[MoviePy] >>>> Building video ConvertedToSign.mp4\n",
            "[MoviePy] Writing audio in ConvertedToSignTEMP_MPY_wvf_snd.mp3\n"
          ],
          "name": "stdout"
        },
        {
          "output_type": "stream",
          "text": [
            "100%|██████████| 2049/2049 [00:02<00:00, 933.68it/s]"
          ],
          "name": "stderr"
        },
        {
          "output_type": "stream",
          "text": [
            "[MoviePy] Done.\n",
            "[MoviePy] Writing video ConvertedToSign.mp4\n"
          ],
          "name": "stdout"
        },
        {
          "output_type": "stream",
          "text": [
            "\n",
            "100%|██████████| 5575/5575 [00:56<00:00, 98.56it/s] \n"
          ],
          "name": "stderr"
        },
        {
          "output_type": "stream",
          "text": [
            "[MoviePy] Done.\n",
            "[MoviePy] >>>> Video ready: ConvertedToSign.mp4 \n",
            "\n",
            "grapes\n",
            "[MoviePy] >>>> Building video ConvertedToSign.mp4\n",
            "[MoviePy] Writing audio in ConvertedToSignTEMP_MPY_wvf_snd.mp3\n"
          ],
          "name": "stdout"
        },
        {
          "output_type": "stream",
          "text": [
            "100%|██████████| 2085/2085 [00:02<00:00, 943.06it/s]"
          ],
          "name": "stderr"
        },
        {
          "output_type": "stream",
          "text": [
            "[MoviePy] Done.\n",
            "[MoviePy] Writing video ConvertedToSign.mp4\n"
          ],
          "name": "stdout"
        },
        {
          "output_type": "stream",
          "text": [
            "\n",
            "100%|██████████| 5672/5672 [00:57<00:00, 99.10it/s]\n"
          ],
          "name": "stderr"
        },
        {
          "output_type": "stream",
          "text": [
            "[MoviePy] Done.\n",
            "[MoviePy] >>>> Video ready: ConvertedToSign.mp4 \n",
            "\n",
            "greece\n",
            "[MoviePy] >>>> Building video ConvertedToSign.mp4\n",
            "[MoviePy] Writing audio in ConvertedToSignTEMP_MPY_wvf_snd.mp3\n"
          ],
          "name": "stdout"
        },
        {
          "output_type": "stream",
          "text": [
            "100%|██████████| 2085/2085 [00:02<00:00, 870.90it/s]"
          ],
          "name": "stderr"
        },
        {
          "output_type": "stream",
          "text": [
            "[MoviePy] Done.\n",
            "[MoviePy] Writing video ConvertedToSign.mp4\n"
          ],
          "name": "stdout"
        },
        {
          "output_type": "stream",
          "text": [
            "\n",
            "100%|██████████| 5852/5852 [00:58<00:00, 99.21it/s] \n"
          ],
          "name": "stderr"
        },
        {
          "output_type": "stream",
          "text": [
            "[MoviePy] Done.\n",
            "[MoviePy] >>>> Video ready: ConvertedToSign.mp4 \n",
            "\n",
            "where\n",
            "[MoviePy] >>>> Building video ConvertedToSign.mp4\n",
            "[MoviePy] Writing audio in ConvertedToSignTEMP_MPY_wvf_snd.mp3\n"
          ],
          "name": "stdout"
        },
        {
          "output_type": "stream",
          "text": [
            "100%|██████████| 2085/2085 [00:02<00:00, 929.72it/s]"
          ],
          "name": "stderr"
        },
        {
          "output_type": "stream",
          "text": [
            "[MoviePy] Done.\n",
            "[MoviePy] Writing video ConvertedToSign.mp4\n"
          ],
          "name": "stdout"
        },
        {
          "output_type": "stream",
          "text": [
            "\n",
            "100%|██████████| 5987/5987 [01:02<00:00, 95.94it/s]\n"
          ],
          "name": "stderr"
        },
        {
          "output_type": "stream",
          "text": [
            "[MoviePy] Done.\n",
            "[MoviePy] >>>> Video ready: ConvertedToSign.mp4 \n",
            "\n",
            "more\n",
            "[MoviePy] >>>> Building video ConvertedToSign.mp4\n",
            "[MoviePy] Writing audio in ConvertedToSignTEMP_MPY_wvf_snd.mp3\n"
          ],
          "name": "stdout"
        },
        {
          "output_type": "stream",
          "text": [
            "100%|██████████| 2264/2264 [00:02<00:00, 884.02it/s]"
          ],
          "name": "stderr"
        },
        {
          "output_type": "stream",
          "text": [
            "[MoviePy] Done.\n",
            "[MoviePy] Writing video ConvertedToSign.mp4\n"
          ],
          "name": "stdout"
        },
        {
          "output_type": "stream",
          "text": [
            "\n",
            "100%|██████████| 6160/6160 [01:02<00:00, 98.79it/s]\n"
          ],
          "name": "stderr"
        },
        {
          "output_type": "stream",
          "text": [
            "[MoviePy] Done.\n",
            "[MoviePy] >>>> Video ready: ConvertedToSign.mp4 \n",
            "\n",
            "beer\n",
            "[MoviePy] >>>> Building video ConvertedToSign.mp4\n",
            "[MoviePy] Writing audio in ConvertedToSignTEMP_MPY_wvf_snd.mp3\n"
          ],
          "name": "stdout"
        },
        {
          "output_type": "stream",
          "text": [
            "100%|██████████| 2264/2264 [00:02<00:00, 936.36it/s]"
          ],
          "name": "stderr"
        },
        {
          "output_type": "stream",
          "text": [
            "[MoviePy] Done.\n",
            "[MoviePy] Writing video ConvertedToSign.mp4\n"
          ],
          "name": "stdout"
        },
        {
          "output_type": "stream",
          "text": [
            "\n",
            "100%|██████████| 6265/6265 [01:03<00:00, 98.53it/s] \n"
          ],
          "name": "stderr"
        },
        {
          "output_type": "stream",
          "text": [
            "[MoviePy] Done.\n",
            "[MoviePy] >>>> Video ready: ConvertedToSign.mp4 \n",
            "\n",
            "basic\n",
            "[MoviePy] >>>> Building video ConvertedToSign.mp4\n",
            "[MoviePy] Writing audio in ConvertedToSignTEMP_MPY_wvf_snd.mp3\n"
          ],
          "name": "stdout"
        },
        {
          "output_type": "stream",
          "text": [
            "100%|██████████| 2264/2264 [00:02<00:00, 934.64it/s] "
          ],
          "name": "stderr"
        },
        {
          "output_type": "stream",
          "text": [
            "[MoviePy] Done.\n",
            "[MoviePy] Writing video ConvertedToSign.mp4\n"
          ],
          "name": "stdout"
        },
        {
          "output_type": "stream",
          "text": [
            "\n",
            "100%|██████████| 6387/6387 [01:04<00:00, 98.40it/s]\n"
          ],
          "name": "stderr"
        },
        {
          "output_type": "stream",
          "text": [
            "[MoviePy] Done.\n",
            "[MoviePy] >>>> Video ready: ConvertedToSign.mp4 \n",
            "\n",
            "week\n",
            "[MoviePy] >>>> Building video ConvertedToSign.mp4\n",
            "[MoviePy] Writing audio in ConvertedToSignTEMP_MPY_wvf_snd.mp3\n"
          ],
          "name": "stdout"
        },
        {
          "output_type": "stream",
          "text": [
            "100%|██████████| 2264/2264 [00:02<00:00, 930.48it/s]"
          ],
          "name": "stderr"
        },
        {
          "output_type": "stream",
          "text": [
            "[MoviePy] Done.\n",
            "[MoviePy] Writing video ConvertedToSign.mp4\n"
          ],
          "name": "stdout"
        },
        {
          "output_type": "stream",
          "text": [
            "\n",
            "100%|██████████| 6505/6505 [01:06<00:00, 98.39it/s] \n"
          ],
          "name": "stderr"
        },
        {
          "output_type": "stream",
          "text": [
            "[MoviePy] Done.\n",
            "[MoviePy] >>>> Video ready: ConvertedToSign.mp4 \n",
            "\n",
            "alcohol\n",
            "[MoviePy] >>>> Building video ConvertedToSign.mp4\n",
            "[MoviePy] Writing audio in ConvertedToSignTEMP_MPY_wvf_snd.mp3\n"
          ],
          "name": "stdout"
        },
        {
          "output_type": "stream",
          "text": [
            "100%|██████████| 2445/2445 [00:02<00:00, 904.94it/s] "
          ],
          "name": "stderr"
        },
        {
          "output_type": "stream",
          "text": [
            "[MoviePy] Done.\n",
            "[MoviePy] Writing video ConvertedToSign.mp4\n"
          ],
          "name": "stdout"
        },
        {
          "output_type": "stream",
          "text": [
            "\n",
            "100%|██████████| 6652/6652 [01:07<00:00, 98.46it/s] \n"
          ],
          "name": "stderr"
        },
        {
          "output_type": "stream",
          "text": [
            "[MoviePy] Done.\n",
            "[MoviePy] >>>> Video ready: ConvertedToSign.mp4 \n",
            "\n",
            "from\n",
            "[MoviePy] >>>> Building video ConvertedToSign.mp4\n",
            "[MoviePy] Writing audio in ConvertedToSignTEMP_MPY_wvf_snd.mp3\n"
          ],
          "name": "stdout"
        },
        {
          "output_type": "stream",
          "text": [
            "100%|██████████| 2445/2445 [00:02<00:00, 931.06it/s]"
          ],
          "name": "stderr"
        },
        {
          "output_type": "stream",
          "text": [
            "[MoviePy] Done.\n",
            "[MoviePy] Writing video ConvertedToSign.mp4\n"
          ],
          "name": "stdout"
        },
        {
          "output_type": "stream",
          "text": [
            "\n",
            "100%|██████████| 6842/6842 [01:08<00:00, 99.30it/s] \n"
          ],
          "name": "stderr"
        },
        {
          "output_type": "stream",
          "text": [
            "[MoviePy] Done.\n",
            "[MoviePy] >>>> Video ready: ConvertedToSign.mp4 \n",
            "\n",
            "what\n",
            "[MoviePy] >>>> Building video ConvertedToSign.mp4\n",
            "[MoviePy] Writing audio in ConvertedToSignTEMP_MPY_wvf_snd.mp3\n"
          ],
          "name": "stdout"
        },
        {
          "output_type": "stream",
          "text": [
            "100%|██████████| 2445/2445 [00:02<00:00, 933.44it/s]"
          ],
          "name": "stderr"
        },
        {
          "output_type": "stream",
          "text": [
            "[MoviePy] Done.\n",
            "[MoviePy] Writing video ConvertedToSign.mp4\n"
          ],
          "name": "stdout"
        },
        {
          "output_type": "stream",
          "text": [
            "\n",
            "100%|██████████| 6959/6959 [01:10<00:00, 98.96it/s]\n"
          ],
          "name": "stderr"
        },
        {
          "output_type": "stream",
          "text": [
            "[MoviePy] Done.\n",
            "[MoviePy] >>>> Video ready: ConvertedToSign.mp4 \n",
            "\n",
            "where\n",
            "[MoviePy] >>>> Building video ConvertedToSign.mp4\n",
            "[MoviePy] Writing audio in ConvertedToSignTEMP_MPY_wvf_snd.mp3\n"
          ],
          "name": "stdout"
        },
        {
          "output_type": "stream",
          "text": [
            "100%|██████████| 2445/2445 [00:02<00:00, 922.55it/s]"
          ],
          "name": "stderr"
        },
        {
          "output_type": "stream",
          "text": [
            "[MoviePy] Done.\n",
            "[MoviePy] Writing video ConvertedToSign.mp4\n"
          ],
          "name": "stdout"
        },
        {
          "output_type": "stream",
          "text": [
            "\n",
            "100%|██████████| 7094/7094 [01:12<00:00, 98.30it/s]\n"
          ],
          "name": "stderr"
        },
        {
          "output_type": "stream",
          "text": [
            "[MoviePy] Done.\n",
            "[MoviePy] >>>> Video ready: ConvertedToSign.mp4 \n",
            "\n",
            "need\n",
            "[MoviePy] >>>> Building video ConvertedToSign.mp4\n",
            "[MoviePy] Writing audio in ConvertedToSignTEMP_MPY_wvf_snd.mp3\n"
          ],
          "name": "stdout"
        },
        {
          "output_type": "stream",
          "text": [
            "100%|██████████| 2666/2666 [00:02<00:00, 954.77it/s] "
          ],
          "name": "stderr"
        },
        {
          "output_type": "stream",
          "text": [
            "[MoviePy] Done.\n",
            "[MoviePy] Writing video ConvertedToSign.mp4\n"
          ],
          "name": "stdout"
        },
        {
          "output_type": "stream",
          "text": [
            "\n",
            "100%|██████████| 7253/7253 [01:16<00:00, 95.30it/s] \n"
          ],
          "name": "stderr"
        },
        {
          "output_type": "stream",
          "text": [
            "[MoviePy] Done.\n",
            "[MoviePy] >>>> Video ready: ConvertedToSign.mp4 \n",
            "\n",
            "show\n",
            "[MoviePy] >>>> Building video ConvertedToSign.mp4\n",
            "[MoviePy] Writing audio in ConvertedToSignTEMP_MPY_wvf_snd.mp3\n"
          ],
          "name": "stdout"
        },
        {
          "output_type": "stream",
          "text": [
            "100%|██████████| 2666/2666 [00:02<00:00, 918.02it/s]"
          ],
          "name": "stderr"
        },
        {
          "output_type": "stream",
          "text": [
            "[MoviePy] Done.\n",
            "[MoviePy] Writing video ConvertedToSign.mp4\n"
          ],
          "name": "stdout"
        },
        {
          "output_type": "stream",
          "text": [
            "\n",
            "100%|██████████| 7376/7376 [01:14<00:00, 98.65it/s]\n"
          ],
          "name": "stderr"
        },
        {
          "output_type": "stream",
          "text": [
            "[MoviePy] Done.\n",
            "[MoviePy] >>>> Video ready: ConvertedToSign.mp4 \n",
            "\n",
            "from\n",
            "[MoviePy] >>>> Building video ConvertedToSign.mp4\n",
            "[MoviePy] Writing audio in ConvertedToSignTEMP_MPY_wvf_snd.mp3\n"
          ],
          "name": "stdout"
        },
        {
          "output_type": "stream",
          "text": [
            "100%|██████████| 2666/2666 [00:02<00:00, 891.32it/s]\n"
          ],
          "name": "stderr"
        },
        {
          "output_type": "stream",
          "text": [
            "[MoviePy] Done.\n",
            "[MoviePy] Writing video ConvertedToSign.mp4\n"
          ],
          "name": "stdout"
        },
        {
          "output_type": "stream",
          "text": [
            "100%|██████████| 7566/7566 [01:16<00:00, 98.95it/s]\n"
          ],
          "name": "stderr"
        },
        {
          "output_type": "stream",
          "text": [
            "[MoviePy] Done.\n",
            "[MoviePy] >>>> Video ready: ConvertedToSign.mp4 \n",
            "\n",
            "now\n",
            "[MoviePy] >>>> Building video ConvertedToSign.mp4\n",
            "[MoviePy] Writing audio in ConvertedToSignTEMP_MPY_wvf_snd.mp3\n"
          ],
          "name": "stdout"
        },
        {
          "output_type": "stream",
          "text": [
            "100%|██████████| 2833/2833 [00:03<00:00, 940.16it/s] "
          ],
          "name": "stderr"
        },
        {
          "output_type": "stream",
          "text": [
            "[MoviePy] Done.\n",
            "[MoviePy] Writing video ConvertedToSign.mp4\n"
          ],
          "name": "stdout"
        },
        {
          "output_type": "stream",
          "text": [
            "\n",
            "100%|██████████| 7709/7709 [01:17<00:00, 99.02it/s] \n"
          ],
          "name": "stderr"
        },
        {
          "output_type": "stream",
          "text": [
            "[MoviePy] Done.\n",
            "[MoviePy] >>>> Video ready: ConvertedToSign.mp4 \n",
            "\n",
            "mexico\n",
            "[MoviePy] >>>> Building video ConvertedToSign.mp4\n",
            "[MoviePy] Writing audio in ConvertedToSignTEMP_MPY_wvf_snd.mp3\n"
          ],
          "name": "stdout"
        },
        {
          "output_type": "stream",
          "text": [
            "100%|██████████| 2833/2833 [00:03<00:00, 925.06it/s]"
          ],
          "name": "stderr"
        },
        {
          "output_type": "stream",
          "text": [
            "[MoviePy] Done.\n",
            "[MoviePy] Writing video ConvertedToSign.mp4\n"
          ],
          "name": "stdout"
        },
        {
          "output_type": "stream",
          "text": [
            "\n",
            "100%|██████████| 7889/7889 [01:22<00:00, 95.55it/s]\n"
          ],
          "name": "stderr"
        },
        {
          "output_type": "stream",
          "text": [
            "[MoviePy] Done.\n",
            "[MoviePy] >>>> Video ready: ConvertedToSign.mp4 \n",
            "\n",
            "can\n",
            "[MoviePy] >>>> Building video ConvertedToSign.mp4\n",
            "[MoviePy] Writing audio in ConvertedToSignTEMP_MPY_wvf_snd.mp3\n"
          ],
          "name": "stdout"
        },
        {
          "output_type": "stream",
          "text": [
            "100%|██████████| 2950/2950 [00:03<00:00, 923.76it/s]"
          ],
          "name": "stderr"
        },
        {
          "output_type": "stream",
          "text": [
            "[MoviePy] Done.\n",
            "[MoviePy] Writing video ConvertedToSign.mp4\n"
          ],
          "name": "stdout"
        },
        {
          "output_type": "stream",
          "text": [
            "\n",
            "100%|██████████| 8026/8026 [01:24<00:00, 94.67it/s]\n"
          ],
          "name": "stderr"
        },
        {
          "output_type": "stream",
          "text": [
            "[MoviePy] Done.\n",
            "[MoviePy] >>>> Video ready: ConvertedToSign.mp4 \n",
            "\n",
            "from\n",
            "[MoviePy] >>>> Building video ConvertedToSign.mp4\n",
            "[MoviePy] Writing audio in ConvertedToSignTEMP_MPY_wvf_snd.mp3\n"
          ],
          "name": "stdout"
        },
        {
          "output_type": "stream",
          "text": [
            "100%|██████████| 2950/2950 [00:03<00:00, 887.99it/s]"
          ],
          "name": "stderr"
        },
        {
          "output_type": "stream",
          "text": [
            "[MoviePy] Done.\n",
            "[MoviePy] Writing video ConvertedToSign.mp4\n"
          ],
          "name": "stdout"
        },
        {
          "output_type": "stream",
          "text": [
            "\n",
            "100%|██████████| 8216/8216 [01:27<00:00, 94.40it/s]\n"
          ],
          "name": "stderr"
        },
        {
          "output_type": "stream",
          "text": [
            "[MoviePy] Done.\n",
            "[MoviePy] >>>> Video ready: ConvertedToSign.mp4 \n",
            "\n",
            "cat\n",
            "[MoviePy] >>>> Building video ConvertedToSign.mp4\n",
            "[MoviePy] Writing audio in ConvertedToSignTEMP_MPY_wvf_snd.mp3\n"
          ],
          "name": "stdout"
        },
        {
          "output_type": "stream",
          "text": [
            "100%|██████████| 2950/2950 [00:03<00:00, 896.76it/s]"
          ],
          "name": "stderr"
        },
        {
          "output_type": "stream",
          "text": [
            "[MoviePy] Done.\n",
            "[MoviePy] Writing video ConvertedToSign.mp4\n"
          ],
          "name": "stdout"
        },
        {
          "output_type": "stream",
          "text": [
            "\n",
            "100%|██████████| 8369/8369 [01:30<00:00, 92.01it/s]\n"
          ],
          "name": "stderr"
        },
        {
          "output_type": "stream",
          "text": [
            "[MoviePy] Done.\n",
            "[MoviePy] >>>> Video ready: ConvertedToSign.mp4 \n",
            "\n",
            "out\n",
            "[MoviePy] >>>> Building video ConvertedToSign.mp4\n",
            "[MoviePy] Writing audio in ConvertedToSignTEMP_MPY_wvf_snd.mp3\n"
          ],
          "name": "stdout"
        },
        {
          "output_type": "stream",
          "text": [
            "100%|██████████| 3120/3120 [00:03<00:00, 893.29it/s] "
          ],
          "name": "stderr"
        },
        {
          "output_type": "stream",
          "text": [
            "[MoviePy] Done.\n",
            "[MoviePy] Writing video ConvertedToSign.mp4\n"
          ],
          "name": "stdout"
        },
        {
          "output_type": "stream",
          "text": [
            "\n",
            "100%|██████████| 8488/8488 [01:28<00:00, 95.52it/s]\n"
          ],
          "name": "stderr"
        },
        {
          "output_type": "stream",
          "text": [
            "[MoviePy] Done.\n",
            "[MoviePy] >>>> Video ready: ConvertedToSign.mp4 \n",
            "\n",
            "drink\n",
            "[MoviePy] >>>> Building video ConvertedToSign.mp4\n",
            "[MoviePy] Writing audio in ConvertedToSignTEMP_MPY_wvf_snd.mp3\n"
          ],
          "name": "stdout"
        },
        {
          "output_type": "stream",
          "text": [
            "100%|██████████| 3163/3163 [00:03<00:00, 883.01it/s] "
          ],
          "name": "stderr"
        },
        {
          "output_type": "stream",
          "text": [
            "[MoviePy] Done.\n",
            "[MoviePy] Writing video ConvertedToSign.mp4\n"
          ],
          "name": "stdout"
        },
        {
          "output_type": "stream",
          "text": [
            "\n",
            "100%|██████████| 8607/8607 [01:30<00:00, 95.63it/s] \n"
          ],
          "name": "stderr"
        },
        {
          "output_type": "stream",
          "text": [
            "[MoviePy] Done.\n",
            "[MoviePy] >>>> Video ready: ConvertedToSign.mp4 \n",
            "\n",
            "east\n",
            "[MoviePy] >>>> Building video ConvertedToSign.mp4\n",
            "[MoviePy] Writing audio in ConvertedToSignTEMP_MPY_wvf_snd.mp3\n"
          ],
          "name": "stdout"
        },
        {
          "output_type": "stream",
          "text": [
            "100%|██████████| 3163/3163 [00:03<00:00, 841.24it/s] "
          ],
          "name": "stderr"
        },
        {
          "output_type": "stream",
          "text": [
            "[MoviePy] Done.\n",
            "[MoviePy] Writing video ConvertedToSign.mp4\n"
          ],
          "name": "stdout"
        },
        {
          "output_type": "stream",
          "text": [
            "\n",
            "100%|██████████| 8775/8775 [01:32<00:00, 94.97it/s]\n"
          ],
          "name": "stderr"
        },
        {
          "output_type": "stream",
          "text": [
            "[MoviePy] Done.\n",
            "[MoviePy] >>>> Video ready: ConvertedToSign.mp4 \n",
            "\n",
            "banana\n",
            "[MoviePy] >>>> Building video ConvertedToSign.mp4\n",
            "[MoviePy] Writing audio in ConvertedToSignTEMP_MPY_wvf_snd.mp3\n"
          ],
          "name": "stdout"
        },
        {
          "output_type": "stream",
          "text": [
            "100%|██████████| 3163/3163 [00:03<00:00, 863.87it/s] "
          ],
          "name": "stderr"
        },
        {
          "output_type": "stream",
          "text": [
            "[MoviePy] Done.\n",
            "[MoviePy] Writing video ConvertedToSign.mp4\n"
          ],
          "name": "stdout"
        },
        {
          "output_type": "stream",
          "text": [
            "\n",
            "100%|██████████| 8893/8893 [01:33<00:00, 95.51it/s]\n"
          ],
          "name": "stderr"
        },
        {
          "output_type": "stream",
          "text": [
            "[MoviePy] Done.\n",
            "[MoviePy] >>>> Video ready: ConvertedToSign.mp4 \n",
            "\n",
            "home\n",
            "[MoviePy] >>>> Building video ConvertedToSign.mp4\n",
            "[MoviePy] Writing audio in ConvertedToSignTEMP_MPY_wvf_snd.mp3\n"
          ],
          "name": "stdout"
        },
        {
          "output_type": "stream",
          "text": [
            "100%|██████████| 3325/3325 [00:03<00:00, 897.84it/s] \n"
          ],
          "name": "stderr"
        },
        {
          "output_type": "stream",
          "text": [
            "[MoviePy] Done.\n",
            "[MoviePy] Writing video ConvertedToSign.mp4\n"
          ],
          "name": "stdout"
        },
        {
          "output_type": "stream",
          "text": [
            "100%|██████████| 9047/9047 [01:35<00:00, 94.77it/s]\n"
          ],
          "name": "stderr"
        },
        {
          "output_type": "stream",
          "text": [
            "[MoviePy] Done.\n",
            "[MoviePy] >>>> Video ready: ConvertedToSign.mp4 \n",
            "\n",
            "area\n",
            "[MoviePy] >>>> Building video ConvertedToSign.mp4\n",
            "[MoviePy] Writing audio in ConvertedToSignTEMP_MPY_wvf_snd.mp3\n"
          ],
          "name": "stdout"
        },
        {
          "output_type": "stream",
          "text": [
            "100%|██████████| 3325/3325 [00:03<00:00, 874.08it/s] "
          ],
          "name": "stderr"
        },
        {
          "output_type": "stream",
          "text": [
            "[MoviePy] Done.\n",
            "[MoviePy] Writing video ConvertedToSign.mp4\n"
          ],
          "name": "stdout"
        },
        {
          "output_type": "stream",
          "text": [
            "\n",
            "100%|██████████| 9212/9212 [01:36<00:00, 95.77it/s]\n"
          ],
          "name": "stderr"
        },
        {
          "output_type": "stream",
          "text": [
            "[MoviePy] Done.\n",
            "[MoviePy] >>>> Video ready: ConvertedToSign.mp4 \n",
            "\n",
            "now\n",
            "[MoviePy] >>>> Building video ConvertedToSign.mp4\n",
            "[MoviePy] Writing audio in ConvertedToSignTEMP_MPY_wvf_snd.mp3\n"
          ],
          "name": "stdout"
        },
        {
          "output_type": "stream",
          "text": [
            "100%|██████████| 3439/3439 [00:06<00:00, 500.55it/s]"
          ],
          "name": "stderr"
        },
        {
          "output_type": "stream",
          "text": [
            "[MoviePy] Done.\n"
          ],
          "name": "stdout"
        },
        {
          "output_type": "stream",
          "text": [
            "\n"
          ],
          "name": "stderr"
        },
        {
          "output_type": "stream",
          "text": [
            "[MoviePy] Writing video ConvertedToSign.mp4\n"
          ],
          "name": "stdout"
        },
        {
          "output_type": "stream",
          "text": [
            "100%|██████████| 9356/9356 [01:38<00:00, 94.97it/s]\n"
          ],
          "name": "stderr"
        },
        {
          "output_type": "stream",
          "text": [
            "[MoviePy] Done.\n",
            "[MoviePy] >>>> Video ready: ConvertedToSign.mp4 \n",
            "\n",
            "japan\n",
            "[MoviePy] >>>> Building video ConvertedToSign.mp4\n",
            "[MoviePy] Writing audio in ConvertedToSignTEMP_MPY_wvf_snd.mp3\n"
          ],
          "name": "stdout"
        },
        {
          "output_type": "stream",
          "text": [
            "100%|██████████| 3494/3494 [00:04<00:00, 836.39it/s]"
          ],
          "name": "stderr"
        },
        {
          "output_type": "stream",
          "text": [
            "[MoviePy] Done.\n",
            "[MoviePy] Writing video ConvertedToSign.mp4\n"
          ],
          "name": "stdout"
        },
        {
          "output_type": "stream",
          "text": [
            "\n",
            "100%|██████████| 9506/9506 [01:39<00:00, 95.10it/s]\n"
          ],
          "name": "stderr"
        },
        {
          "output_type": "stream",
          "text": [
            "[MoviePy] Done.\n",
            "[MoviePy] >>>> Video ready: ConvertedToSign.mp4 \n",
            "\n",
            "second\n",
            "[MoviePy] >>>> Building video ConvertedToSign.mp4\n",
            "[MoviePy] Writing audio in ConvertedToSignTEMP_MPY_wvf_snd.mp3\n"
          ],
          "name": "stdout"
        },
        {
          "output_type": "stream",
          "text": [
            "100%|██████████| 3494/3494 [00:04<00:00, 833.26it/s]"
          ],
          "name": "stderr"
        },
        {
          "output_type": "stream",
          "text": [
            "[MoviePy] Done.\n",
            "[MoviePy] Writing video ConvertedToSign.mp4\n"
          ],
          "name": "stdout"
        },
        {
          "output_type": "stream",
          "text": [
            "\n",
            "100%|██████████| 9608/9608 [01:38<00:00, 97.29it/s] \n"
          ],
          "name": "stderr"
        },
        {
          "output_type": "stream",
          "text": [
            "[MoviePy] Done.\n",
            "[MoviePy] >>>> Video ready: ConvertedToSign.mp4 \n",
            "\n",
            "alcohol\n",
            "[MoviePy] >>>> Building video ConvertedToSign.mp4\n",
            "[MoviePy] Writing audio in ConvertedToSignTEMP_MPY_wvf_snd.mp3\n"
          ],
          "name": "stdout"
        },
        {
          "output_type": "stream",
          "text": [
            "100%|██████████| 3585/3585 [00:04<00:00, 835.91it/s]"
          ],
          "name": "stderr"
        },
        {
          "output_type": "stream",
          "text": [
            "[MoviePy] Done.\n",
            "[MoviePy] Writing video ConvertedToSign.mp4\n"
          ],
          "name": "stdout"
        },
        {
          "output_type": "stream",
          "text": [
            "\n",
            "100%|██████████| 9755/9755 [01:38<00:00, 99.04it/s] \n"
          ],
          "name": "stderr"
        },
        {
          "output_type": "stream",
          "text": [
            "[MoviePy] Done.\n",
            "[MoviePy] >>>> Video ready: ConvertedToSign.mp4 \n",
            "\n",
            "positive\n",
            "[MoviePy] >>>> Building video ConvertedToSign.mp4\n",
            "[MoviePy] Writing audio in ConvertedToSignTEMP_MPY_wvf_snd.mp3\n"
          ],
          "name": "stdout"
        },
        {
          "output_type": "stream",
          "text": [
            "100%|██████████| 3585/3585 [00:04<00:00, 874.86it/s]\n"
          ],
          "name": "stderr"
        },
        {
          "output_type": "stream",
          "text": [
            "[MoviePy] Done.\n",
            "[MoviePy] Writing video ConvertedToSign.mp4\n"
          ],
          "name": "stdout"
        },
        {
          "output_type": "stream",
          "text": [
            "100%|██████████| 9933/9933 [01:40<00:00, 98.90it/s] \n"
          ],
          "name": "stderr"
        },
        {
          "output_type": "stream",
          "text": [
            "[MoviePy] Done.\n",
            "[MoviePy] >>>> Video ready: ConvertedToSign.mp4 \n",
            "\n",
            "greek\n",
            "[MoviePy] >>>> Building video ConvertedToSign.mp4\n",
            "[MoviePy] Writing audio in ConvertedToSignTEMP_MPY_wvf_snd.mp3\n"
          ],
          "name": "stdout"
        },
        {
          "output_type": "stream",
          "text": [
            "100%|██████████| 3700/3700 [00:04<00:00, 861.97it/s]"
          ],
          "name": "stderr"
        },
        {
          "output_type": "stream",
          "text": [
            "[MoviePy] Done.\n",
            "[MoviePy] Writing video ConvertedToSign.mp4\n"
          ],
          "name": "stdout"
        },
        {
          "output_type": "stream",
          "text": [
            "\n",
            "100%|██████████| 10066/10066 [01:50<00:00, 90.99it/s]\n"
          ],
          "name": "stderr"
        },
        {
          "output_type": "stream",
          "text": [
            "[MoviePy] Done.\n",
            "[MoviePy] >>>> Video ready: ConvertedToSign.mp4 \n",
            "\n",
            "good\n",
            "[MoviePy] >>>> Building video ConvertedToSign.mp4\n",
            "[MoviePy] Writing audio in ConvertedToSignTEMP_MPY_wvf_snd.mp3\n"
          ],
          "name": "stdout"
        },
        {
          "output_type": "stream",
          "text": [
            "100%|██████████| 3739/3739 [00:04<00:00, 800.45it/s]"
          ],
          "name": "stderr"
        },
        {
          "output_type": "stream",
          "text": [
            "[MoviePy] Done.\n",
            "[MoviePy] Writing video ConvertedToSign.mp4\n"
          ],
          "name": "stdout"
        },
        {
          "output_type": "stream",
          "text": [
            "\n",
            "100%|█████████▉| 10173/10174 [01:48<00:00, 93.99it/s] \n"
          ],
          "name": "stderr"
        },
        {
          "output_type": "stream",
          "text": [
            "[MoviePy] Done.\n",
            "[MoviePy] >>>> Video ready: ConvertedToSign.mp4 \n",
            "\n",
            "for\n",
            "[MoviePy] >>>> Building video ConvertedToSign.mp4\n",
            "[MoviePy] Writing audio in ConvertedToSignTEMP_MPY_wvf_snd.mp3\n"
          ],
          "name": "stdout"
        },
        {
          "output_type": "stream",
          "text": [
            "100%|██████████| 3780/3780 [00:04<00:00, 790.44it/s]"
          ],
          "name": "stderr"
        },
        {
          "output_type": "stream",
          "text": [
            "[MoviePy] Done.\n",
            "[MoviePy] Writing video ConvertedToSign.mp4\n"
          ],
          "name": "stdout"
        },
        {
          "output_type": "stream",
          "text": [
            "\n",
            "100%|██████████| 10284/10284 [01:48<00:00, 94.39it/s]\n"
          ],
          "name": "stderr"
        },
        {
          "output_type": "stream",
          "text": [
            "[MoviePy] Done.\n",
            "[MoviePy] >>>> Video ready: ConvertedToSign.mp4 \n",
            "\n",
            "health\n",
            "[MoviePy] >>>> Building video ConvertedToSign.mp4\n",
            "[MoviePy] Writing audio in ConvertedToSignTEMP_MPY_wvf_snd.mp3\n"
          ],
          "name": "stdout"
        },
        {
          "output_type": "stream",
          "text": [
            "100%|██████████| 3837/3837 [00:04<00:00, 781.56it/s]"
          ],
          "name": "stderr"
        },
        {
          "output_type": "stream",
          "text": [
            "[MoviePy] Done.\n",
            "[MoviePy] Writing video ConvertedToSign.mp4\n"
          ],
          "name": "stdout"
        },
        {
          "output_type": "stream",
          "text": [
            "\n",
            "100%|██████████| 10439/10439 [01:49<00:00, 95.19it/s]\n"
          ],
          "name": "stderr"
        },
        {
          "output_type": "stream",
          "text": [
            "[MoviePy] Done.\n",
            "[MoviePy] >>>> Video ready: ConvertedToSign.mp4 \n",
            "\n",
            "more\n",
            "[MoviePy] >>>> Building video ConvertedToSign.mp4\n",
            "[MoviePy] Writing audio in ConvertedToSignTEMP_MPY_wvf_snd.mp3\n"
          ],
          "name": "stdout"
        },
        {
          "output_type": "stream",
          "text": [
            "100%|██████████| 3900/3900 [00:04<00:00, 782.36it/s]"
          ],
          "name": "stderr"
        },
        {
          "output_type": "stream",
          "text": [
            "[MoviePy] Done.\n",
            "[MoviePy] Writing video ConvertedToSign.mp4\n"
          ],
          "name": "stdout"
        },
        {
          "output_type": "stream",
          "text": [
            "\n",
            "100%|██████████| 10612/10612 [01:51<00:00, 95.24it/s]\n"
          ],
          "name": "stderr"
        },
        {
          "output_type": "stream",
          "text": [
            "[MoviePy] Done.\n",
            "[MoviePy] >>>> Video ready: ConvertedToSign.mp4 \n",
            "\n",
            "about\n",
            "[MoviePy] >>>> Building video ConvertedToSign.mp4\n",
            "[MoviePy] Writing audio in ConvertedToSignTEMP_MPY_wvf_snd.mp3\n"
          ],
          "name": "stdout"
        },
        {
          "output_type": "stream",
          "text": [
            "100%|██████████| 3900/3900 [00:04<00:00, 781.48it/s]"
          ],
          "name": "stderr"
        },
        {
          "output_type": "stream",
          "text": [
            "[MoviePy] Done.\n",
            "[MoviePy] Writing video ConvertedToSign.mp4\n"
          ],
          "name": "stdout"
        },
        {
          "output_type": "stream",
          "text": [
            "\n",
            "100%|██████████| 10792/10792 [01:53<00:00, 94.94it/s]\n"
          ],
          "name": "stderr"
        },
        {
          "output_type": "stream",
          "text": [
            "[MoviePy] Done.\n",
            "[MoviePy] >>>> Video ready: ConvertedToSign.mp4 \n",
            "\n",
            "alcohol\n",
            "[MoviePy] >>>> Building video ConvertedToSign.mp4\n",
            "[MoviePy] Writing audio in ConvertedToSignTEMP_MPY_wvf_snd.mp3\n"
          ],
          "name": "stdout"
        },
        {
          "output_type": "stream",
          "text": [
            "100%|██████████| 4020/4020 [00:07<00:00, 524.37it/s]"
          ],
          "name": "stderr"
        },
        {
          "output_type": "stream",
          "text": [
            "[MoviePy] Done.\n"
          ],
          "name": "stdout"
        },
        {
          "output_type": "stream",
          "text": [
            "\n"
          ],
          "name": "stderr"
        },
        {
          "output_type": "stream",
          "text": [
            "[MoviePy] Writing video ConvertedToSign.mp4\n"
          ],
          "name": "stdout"
        },
        {
          "output_type": "stream",
          "text": [
            "100%|█████████▉| 10938/10939 [01:54<00:00, 95.12it/s] \n"
          ],
          "name": "stderr"
        },
        {
          "output_type": "stream",
          "text": [
            "[MoviePy] Done.\n",
            "[MoviePy] >>>> Video ready: ConvertedToSign.mp4 \n",
            "\n",
            "for\n",
            "[MoviePy] >>>> Building video ConvertedToSign.mp4\n",
            "[MoviePy] Writing audio in ConvertedToSignTEMP_MPY_wvf_snd.mp3\n"
          ],
          "name": "stdout"
        },
        {
          "output_type": "stream",
          "text": [
            "100%|██████████| 4061/4061 [00:05<00:00, 742.35it/s]"
          ],
          "name": "stderr"
        },
        {
          "output_type": "stream",
          "text": [
            "[MoviePy] Done.\n",
            "[MoviePy] Writing video ConvertedToSign.mp4\n"
          ],
          "name": "stdout"
        },
        {
          "output_type": "stream",
          "text": [
            "\n",
            "100%|██████████| 11049/11049 [01:57<00:00, 94.19it/s] \n"
          ],
          "name": "stderr"
        },
        {
          "output_type": "stream",
          "text": [
            "[MoviePy] Done.\n",
            "[MoviePy] >>>> Video ready: ConvertedToSign.mp4 \n",
            "\n",
            "greek\n",
            "[MoviePy] >>>> Building video ConvertedToSign.mp4\n",
            "[MoviePy] Writing audio in ConvertedToSignTEMP_MPY_wvf_snd.mp3\n"
          ],
          "name": "stdout"
        },
        {
          "output_type": "stream",
          "text": [
            "100%|██████████| 4110/4110 [00:05<00:00, 737.95it/s]"
          ],
          "name": "stderr"
        },
        {
          "output_type": "stream",
          "text": [
            "[MoviePy] Done.\n",
            "[MoviePy] Writing video ConvertedToSign.mp4\n"
          ],
          "name": "stdout"
        },
        {
          "output_type": "stream",
          "text": [
            "\n",
            "100%|██████████| 11182/11182 [01:54<00:00, 97.44it/s] \n"
          ],
          "name": "stderr"
        },
        {
          "output_type": "stream",
          "text": [
            "[MoviePy] Done.\n",
            "[MoviePy] >>>> Video ready: ConvertedToSign.mp4 \n",
            "\n",
            "early\n",
            "[MoviePy] >>>> Building video ConvertedToSign.mp4\n",
            "[MoviePy] Writing audio in ConvertedToSignTEMP_MPY_wvf_snd.mp3\n"
          ],
          "name": "stdout"
        },
        {
          "output_type": "stream",
          "text": [
            "100%|██████████| 4110/4110 [00:05<00:00, 764.07it/s]"
          ],
          "name": "stderr"
        },
        {
          "output_type": "stream",
          "text": [
            "[MoviePy] Done.\n",
            "[MoviePy] Writing video ConvertedToSign.mp4\n"
          ],
          "name": "stdout"
        },
        {
          "output_type": "stream",
          "text": [
            "\n",
            "100%|██████████| 11377/11377 [01:55<00:00, 98.28it/s]\n"
          ],
          "name": "stderr"
        },
        {
          "output_type": "stream",
          "text": [
            "[MoviePy] Done.\n",
            "[MoviePy] >>>> Video ready: ConvertedToSign.mp4 \n",
            "\n",
            "jewish\n",
            "[MoviePy] >>>> Building video ConvertedToSign.mp4\n",
            "[MoviePy] Writing audio in ConvertedToSignTEMP_MPY_wvf_snd.mp3\n"
          ],
          "name": "stdout"
        },
        {
          "output_type": "stream",
          "text": [
            "100%|██████████| 4110/4110 [00:05<00:00, 764.66it/s]"
          ],
          "name": "stderr"
        },
        {
          "output_type": "stream",
          "text": [
            "[MoviePy] Done.\n",
            "[MoviePy] Writing video ConvertedToSign.mp4\n"
          ],
          "name": "stdout"
        },
        {
          "output_type": "stream",
          "text": [
            "\n",
            "100%|██████████| 11522/11522 [01:59<00:00, 96.70it/s]\n"
          ],
          "name": "stderr"
        },
        {
          "output_type": "stream",
          "text": [
            "[MoviePy] Done.\n",
            "[MoviePy] >>>> Video ready: ConvertedToSign.mp4 \n",
            "\n",
            "country\n",
            "[MoviePy] >>>> Building video ConvertedToSign.mp4\n",
            "[MoviePy] Writing audio in ConvertedToSignTEMP_MPY_wvf_snd.mp3\n"
          ],
          "name": "stdout"
        },
        {
          "output_type": "stream",
          "text": [
            "100%|██████████| 4110/4110 [00:07<00:00, 579.69it/s]"
          ],
          "name": "stderr"
        },
        {
          "output_type": "stream",
          "text": [
            "[MoviePy] Done.\n",
            "[MoviePy] Writing video ConvertedToSign.mp4\n"
          ],
          "name": "stdout"
        },
        {
          "output_type": "stream",
          "text": [
            "\n",
            "100%|██████████| 11655/11655 [02:00<00:00, 97.07it/s] \n"
          ],
          "name": "stderr"
        },
        {
          "output_type": "stream",
          "text": [
            "[MoviePy] Done.\n",
            "[MoviePy] >>>> Video ready: ConvertedToSign.mp4 \n",
            "\n",
            "but\n",
            "[MoviePy] >>>> Building video ConvertedToSign.mp4\n",
            "[MoviePy] Writing audio in ConvertedToSignTEMP_MPY_wvf_snd.mp3\n"
          ],
          "name": "stdout"
        },
        {
          "output_type": "stream",
          "text": [
            "100%|██████████| 4340/4340 [00:05<00:00, 749.45it/s]"
          ],
          "name": "stderr"
        },
        {
          "output_type": "stream",
          "text": [
            "[MoviePy] Done.\n",
            "[MoviePy] Writing video ConvertedToSign.mp4\n"
          ],
          "name": "stdout"
        },
        {
          "output_type": "stream",
          "text": [
            "\n",
            "100%|██████████| 11810/11810 [02:01<00:00, 97.40it/s]\n"
          ],
          "name": "stderr"
        },
        {
          "output_type": "stream",
          "text": [
            "[MoviePy] Done.\n",
            "[MoviePy] >>>> Video ready: ConvertedToSign.mp4 \n",
            "\n",
            "middle\n",
            "[MoviePy] >>>> Building video ConvertedToSign.mp4\n",
            "[MoviePy] Writing audio in ConvertedToSignTEMP_MPY_wvf_snd.mp3\n"
          ],
          "name": "stdout"
        },
        {
          "output_type": "stream",
          "text": [
            "100%|██████████| 4340/4340 [00:05<00:00, 758.29it/s]"
          ],
          "name": "stderr"
        },
        {
          "output_type": "stream",
          "text": [
            "[MoviePy] Done.\n",
            "[MoviePy] Writing video ConvertedToSign.mp4\n"
          ],
          "name": "stdout"
        },
        {
          "output_type": "stream",
          "text": [
            "\n",
            "100%|██████████| 11995/11995 [02:02<00:00, 97.66it/s] \n"
          ],
          "name": "stderr"
        },
        {
          "output_type": "stream",
          "text": [
            "[MoviePy] Done.\n",
            "[MoviePy] >>>> Video ready: ConvertedToSign.mp4 \n",
            "\n",
            "east\n",
            "[MoviePy] >>>> Building video ConvertedToSign.mp4\n",
            "[MoviePy] Writing audio in ConvertedToSignTEMP_MPY_wvf_snd.mp3\n"
          ],
          "name": "stdout"
        },
        {
          "output_type": "stream",
          "text": [
            "100%|██████████| 4340/4340 [00:05<00:00, 751.92it/s]"
          ],
          "name": "stderr"
        },
        {
          "output_type": "stream",
          "text": [
            "[MoviePy] Done.\n",
            "[MoviePy] Writing video ConvertedToSign.mp4\n"
          ],
          "name": "stdout"
        },
        {
          "output_type": "stream",
          "text": [
            "\n",
            "100%|██████████| 12163/12163 [02:04<00:00, 97.50it/s] \n"
          ],
          "name": "stderr"
        },
        {
          "output_type": "stream",
          "text": [
            "[MoviePy] Done.\n",
            "[MoviePy] >>>> Video ready: ConvertedToSign.mp4 \n",
            "\n",
            "up\n",
            "[MoviePy] >>>> Building video ConvertedToSign.mp4\n",
            "[MoviePy] Writing audio in ConvertedToSignTEMP_MPY_wvf_snd.mp3\n"
          ],
          "name": "stdout"
        },
        {
          "output_type": "stream",
          "text": [
            "100%|██████████| 4340/4340 [00:05<00:00, 741.55it/s]"
          ],
          "name": "stderr"
        },
        {
          "output_type": "stream",
          "text": [
            "[MoviePy] Done.\n",
            "[MoviePy] Writing video ConvertedToSign.mp4\n"
          ],
          "name": "stdout"
        },
        {
          "output_type": "stream",
          "text": [
            "\n",
            "100%|██████████| 12256/12256 [02:06<00:00, 96.78it/s] \n"
          ],
          "name": "stderr"
        },
        {
          "output_type": "stream",
          "text": [
            "[MoviePy] Done.\n",
            "[MoviePy] >>>> Video ready: ConvertedToSign.mp4 \n",
            "\n",
            "opinion\n",
            "[MoviePy] >>>> Building video ConvertedToSign.mp4\n",
            "[MoviePy] Writing audio in ConvertedToSignTEMP_MPY_wvf_snd.mp3\n"
          ],
          "name": "stdout"
        },
        {
          "output_type": "stream",
          "text": [
            "100%|██████████| 4340/4340 [00:05<00:00, 753.33it/s]"
          ],
          "name": "stderr"
        },
        {
          "output_type": "stream",
          "text": [
            "[MoviePy] Done.\n",
            "[MoviePy] Writing video ConvertedToSign.mp4\n"
          ],
          "name": "stdout"
        },
        {
          "output_type": "stream",
          "text": [
            "\n",
            "100%|██████████| 12406/12406 [02:07<00:00, 97.35it/s]\n"
          ],
          "name": "stderr"
        },
        {
          "output_type": "stream",
          "text": [
            "[MoviePy] Done.\n",
            "[MoviePy] >>>> Video ready: ConvertedToSign.mp4 \n",
            "\n"
          ],
          "name": "stdout"
        }
      ]
    },
    {
      "cell_type": "code",
      "metadata": {
        "id": "JxEurvsmCUHL"
      },
      "source": [
        "VideosOmitted = ((len(array) -count_of_videos_played )/len(array))*100\r\n",
        "\r\n",
        "print(\"The number of ASL videos played :\", count_of_videos_played)\r\n",
        "print(\"The word count in the actual video file  :\", len(array))\r\n",
        "print(\"The percentage of translated words omitted :\", VideosOmitted)\r\n",
        "\r\n"
      ],
      "execution_count": null,
      "outputs": []
    }
  ]
}